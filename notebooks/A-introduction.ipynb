{
  "cells": [
    {
      "cell_type": "markdown",
      "metadata": {
        "id": "R77zeP4wu358",
        "colab_type": "text"
      },
      "source": [
        "# Introduction to Chemistry in Notebook Environments\n",
        "\n",
        "## Background\n",
        "\n",
        "With the advent and democratization of machine learning methods in Python, anyone can study chemistry on a computer more or less in the same way as you could on pen and paper, albeit at a much larger scale because of the access to extremely large datasets (big data) dealing with millions of molecules at a time. This field, called cheminformatics, focuses around the study of chemistry at a very large scale to find molecules with desirable drug and/or material properties without having to step into a lab.\n",
        "\n",
        "Because there's a difference in working environment, the main difference in aspects between pen and paper chemistry and cheminformatics is _how we can cope with very large datasets_. While traditionally we could just draw on pen and paper molecular structures (which are actually graphs), computers natively do not extract properties and features out of structures: to computers, these are no more than just pictures while to chemists they mean much more. Thus, we need ways to _represent_ molecules in a way machines can process, and we can manipulate. From these representations we can find ways to predict reactivity, find similarities between functional groups/motifs, and so on."
      ]
    },
    {
      "cell_type": "markdown",
      "metadata": {
        "id": "KUU6LkgXy3Yj",
        "colab_type": "text"
      },
      "source": [
        "## Machine representations of molecules\n",
        "\n",
        "As mentioned before, pictures of molecular structures don't mean much to computers on their own. At a low level, machines deal in bytes (i.e. numerical values), whereas chemists deal with 2D/3D structures better. There are a few ways to meet in the middle, and make it easier for humans and/or machines in some way or another.\n",
        "\n",
        "### Cartesian Coordinates\n",
        "\n",
        "Perhaps the most ubiquitious and intuitive is to represent a molecular structure in 3D space. You can structure an array to have $N$ rows corresponding to $N$ atoms in a molecule, and each row has four elements corresponding to atom, $x, y, z$. Benzene, for example, would look like this:\n",
        "\n",
        "```\n",
        "C          1.38317       -0.22152        0.00569\n",
        "C          0.88120        1.07987        0.01399\n",
        "C         -0.49673        1.29605        0.01080\n",
        "C         -1.37285        0.21071       -0.00446\n",
        "C         -0.87099       -1.09054       -0.01442\n",
        "C          0.50683       -1.30673       -0.00815\n",
        "H          2.45657       -0.39007        0.00970\n",
        "H          1.56387        1.92530        0.02363\n",
        "H         -0.88772        2.31004        0.01955\n",
        "H         -2.44645        0.37922       -0.00816\n",
        "H         -1.55362       -1.93599       -0.02724\n",
        "H          0.89787       -2.32076       -0.01358\n",
        "```\n",
        "\n",
        "This is both machine readable and—albeit cumbersome—human editable. The trouble is that Cartesian coordinates are not invariant to translation and rotation: I can move the structure in 3D space and you will get a different set of coordinates, but the actual structure itself does not change.\n",
        "\n",
        "### Simplified Molecular-Input Line-Entry System\n",
        "\n",
        "Another way to represent structures, and probably the most commonly used way in cheminformatics is to use the [simplified molecular-input line-entry system (SMILES)](https://en.wikipedia.org/wiki/Simplified_molecular-input_line-entry_system) notation, where you encode a molecular structure as a single line of characters that represent atoms, bonding/connectivity, and charge state. This has the advantage of representing the structure natively, and is therefore invariant to translation and rotation. The corresponding SMILES string for benzene is simply `c1ccccc1`: lower case letters represent aromatic carbons, and the `1` reflects connectivity, saying the first carbon is connected to the last carbon. In this representation, hydrogens are implicit, although you _can_ specify them explicitly.\n",
        "\n",
        "With this, we can actually start drawing up molecules with a [Python package called `rdkit`](https://www.rdkit.org/docs/GettingStartedInPython.html)."
      ]
    },
    {
      "cell_type": "code",
      "metadata": {
        "id": "M1aY5_W1wfJh",
        "colab_type": "code",
        "colab": {}
      },
      "source": [
        "from rdkit import Chem\n",
        "from rdkit.Chem import DataStructs\n",
        "from rdkit.Chem import AllChem\n",
        "from rdkit.Chem.Draw import IPythonConsole\n",
        "\n",
        "import numpy as np"
      ],
      "execution_count": 1,
      "outputs": []
    },
    {
      "cell_type": "code",
      "metadata": {
        "id": "V7Oz83Dbwkvf",
        "colab_type": "code",
        "colab": {}
      },
      "source": [
        "benzene = Chem.MolFromSmiles(\"c1ccccc1\")"
      ],
      "execution_count": 2,
      "outputs": []
    },
    {
      "cell_type": "markdown",
      "metadata": {},
      "source": [
        "This creates an RDKit `Mol` object, which is the main interface for users."
      ]
    },
    {
      "cell_type": "code",
      "metadata": {
        "id": "OShZ4qJd2UKh",
        "colab_type": "code",
        "colab": {
          "base_uri": "https://localhost:8080/",
          "height": 34
        },
        "outputId": "965c6658-3ea6-4172-91d9-2fa08985d491"
      },
      "source": [
        "type(benzene)"
      ],
      "execution_count": 3,
      "outputs": [
        {
          "output_type": "execute_result",
          "data": {
            "text/plain": "rdkit.Chem.rdchem.Mol"
          },
          "metadata": {},
          "execution_count": 3
        }
      ]
    },
    {
      "cell_type": "code",
      "metadata": {
        "id": "2NM37c6V17bt",
        "colab_type": "code",
        "colab": {
          "base_uri": "https://localhost:8080/",
          "height": 167
        },
        "outputId": "92c3dbff-8352-433d-b6e7-fe863cbecf53"
      },
      "source": [
        "# in a local notebook where rdkit is properly installed, \n",
        "# a `Mol` object will actually be represented as a picture when called\n",
        "benzene"
      ],
      "execution_count": 5,
      "outputs": [
        {
          "output_type": "execute_result",
          "data": {
            "image/png": "[encoded data removed]",
            "text/plain": [
              "<rdkit.Chem.rdchem.Mol at 0x7f764b6b3440>"
            ]
          },
          "metadata": {
            "tags": []
          },
          "execution_count": 5
        }
      ]
    },
    {
      "cell_type": "code",
      "metadata": {
        "id": "IybJdNIq4tIi",
        "colab_type": "code",
        "colab": {
          "base_uri": "https://localhost:8080/",
          "height": 34
        },
        "outputId": "7e2ca65b-44c9-41ab-a1d2-b2d1b305caf3"
      },
      "source": [
        "# reverse direction. The canonical is important!\n",
        "Chem.MolToSmiles(benzene, canonical=True)"
      ],
      "execution_count": 55,
      "outputs": [
        {
          "output_type": "execute_result",
          "data": {
            "text/plain": [
              "'c1ccccc1'"
            ]
          },
          "metadata": {
            "tags": []
          },
          "execution_count": 55
        }
      ]
    },
    {
      "cell_type": "markdown",
      "metadata": {
        "id": "uD9BiHww37XR",
        "colab_type": "text"
      },
      "source": [
        "If you're not sure how to write the SMILES string for a molecule, Wikipedia has the entry for simple molecules, although it is more consistent to search it on [PubChem](https://pubchem.ncbi.nlm.nih.gov/) or [ChemSpider](https://chemspider.com). Try find the SMILES for:\n",
        "\n",
        "1. Acetaldehyde\n",
        "2. Benzonitrile"
      ]
    },
    {
      "cell_type": "code",
      "metadata": {
        "id": "ezut3uMd8WSk",
        "colab_type": "code",
        "colab": {
          "base_uri": "https://localhost:8080/",
          "height": 167
        },
        "outputId": "2b0f8419-81de-4a73-9630-787cdf3d838a"
      },
      "source": [
        "# HC5N\n",
        "Chem.MolFromSmiles(\"C#CC#CC#N\")"
      ],
      "execution_count": 14,
      "outputs": [
        {
          "output_type": "execute_result",
          "data": {
            "image/png": "[encoded data removed]",
            "text/plain": [
              "<rdkit.Chem.rdchem.Mol at 0x7f764b6b6bc0>"
            ]
          },
          "metadata": {
            "tags": []
          },
          "execution_count": 14
        }
      ]
    },
    {
      "cell_type": "code",
      "metadata": {
        "id": "hbmd4zqy4-0l",
        "colab_type": "code",
        "colab": {}
      },
      "source": [
        "# Fill me in!"
      ],
      "execution_count": null,
      "outputs": []
    },
    {
      "cell_type": "code",
      "metadata": {
        "id": "i7Nb4usf4-8h",
        "colab_type": "code",
        "colab": {}
      },
      "source": [
        "smiles = [\"c1ccccc1\", \"C1=CC=C(C=C1)C#N\", \"CC=O\"]\n",
        "\n",
        "# write a for loop to convert all the SMILES strings into `Mol`s\n",
        "mols = ..."
      ],
      "execution_count": null,
      "outputs": []
    },
    {
      "cell_type": "markdown",
      "metadata": {
        "id": "Jtrncq_Y5uGO",
        "colab_type": "text"
      },
      "source": [
        "### Molecular fingerprinting\n",
        "\n",
        "While the SMILES representation certainly helps with mediating between humans and computers, it still isn't a very convenient way for machines to understand and quantify certain properties: SMILES encodes the structure and the connectivity, but to someone who doesn't know any chemistry at all it doesn't mean anything, and that's the position a computer is in. We need to go further in helping a computer _extract features_ from SMILES, which is telling it where and what to look for in a molecule.\n",
        "\n",
        "\"Molecular Fingerprinting\" is a way to transform intermediate representations like SMILES into numeric vector representations based on certain properties (thus fingerprinting), which are then used to make comparisons and predictions."
      ]
    },
    {
      "cell_type": "code",
      "metadata": {
        "id": "tvBlBLPb_GMd",
        "colab_type": "code",
        "colab": {
          "base_uri": "https://localhost:8080/",
          "height": 34
        },
        "outputId": "5749b038-2da4-4b66-f947-8de39b6952b5"
      },
      "source": [
        "Chem.RDKFingerprint(benzene)"
      ],
      "execution_count": 16,
      "outputs": [
        {
          "output_type": "execute_result",
          "data": {
            "text/plain": [
              "<rdkit.DataStructs.cDataStructs.ExplicitBitVect at 0x7f764b7f4a80>"
            ]
          },
          "metadata": {
            "tags": []
          },
          "execution_count": 16
        }
      ]
    },
    {
      "cell_type": "code",
      "metadata": {
        "id": "Rfui_jvV2anT",
        "colab_type": "code",
        "colab": {
          "base_uri": "https://localhost:8080/",
          "height": 121
        },
        "outputId": "68572983-c334-4c1f-87f8-d0ec50def3d5"
      },
      "source": [
        "array = np.empty(1)\n",
        "\n",
        "print(array.shape)\n",
        "\n",
        "DataStructs.ConvertToNumpyArray(Chem.RDKFingerprint(benzene), array)\n",
        "\n",
        "print(f\"This is what the array looks like: {array}\")\n",
        "\n",
        "print(f\"The sum of the array actually suggests it's not all zeros: {array.sum()}\")\n",
        "\n",
        "print(f\"Get the indices of where it's non-zero:\\n {np.where(array != 0.)}\")"
      ],
      "execution_count": 15,
      "outputs": [
        {
          "output_type": "stream",
          "text": [
            "(1,)\n",
            "This is what the array looks like: [0. 0. 0. ... 0. 0. 0.]\n",
            "The sum of the array actually suggests it's not all zeros: 12.0\n",
            "Get the indices of where it's non-zero:\n",
            " (array([ 103,  161,  194,  294,  330,  792,  842, 1026, 1287, 1784, 1889,\n",
            "       1907]),)\n"
          ],
          "name": "stdout"
        }
      ]
    },
    {
      "cell_type": "code",
      "metadata": {
        "id": "SXHWFSoo_vKW",
        "colab_type": "code",
        "colab": {
          "base_uri": "https://localhost:8080/",
          "height": 191
        },
        "outputId": "7f105220-0269-41a0-a8e7-53f08c9d0db2"
      },
      "source": [
        "benzonitrile = Chem.MolFromSmiles(\"C1=CC=C(C=C1)C#N\")\n",
        "\n",
        "array = np.empty(1)\n",
        "\n",
        "print(array.shape)\n",
        "\n",
        "DataStructs.ConvertToNumpyArray(Chem.RDKFingerprint(benzonitrile), array)\n",
        "\n",
        "print(f\"This is what the array looks like: {array}\")\n",
        "\n",
        "print(f\"The sum of the array actually suggests it's not all zeros: {array.sum()}\")\n",
        "\n",
        "print(f\"Get the indices of where it's non-zero:\\n {np.where(array != 0.)}\")"
      ],
      "execution_count": 17,
      "outputs": [
        {
          "output_type": "stream",
          "text": [
            "(1,)\n",
            "This is what the array looks like: [0. 0. 0. ... 0. 0. 0.]\n",
            "The sum of the array actually suggests it's not all zeros: 63.0\n",
            "Get the indices of where it's non-zero:\n",
            " (array([  50,  103,  146,  161,  194,  248,  287,  294,  305,  330,  337,\n",
            "        411,  434,  441,  443,  475,  704,  730,  737,  744,  792,  798,\n",
            "        820,  830,  842,  854,  855,  928,  930,  952,  977, 1013, 1026,\n",
            "       1060, 1064, 1174, 1219, 1275, 1283, 1287, 1320, 1333, 1336, 1338,\n",
            "       1343, 1456, 1545, 1553, 1577, 1692, 1694, 1699, 1784, 1806, 1816,\n",
            "       1824, 1872, 1888, 1889, 1907, 1909, 1941, 2037]),)\n"
          ],
          "name": "stdout"
        }
      ]
    },
    {
      "cell_type": "code",
      "metadata": {
        "id": "lQu03joyAO0k",
        "colab_type": "code",
        "colab": {
          "base_uri": "https://localhost:8080/",
          "height": 104
        },
        "outputId": "79760b63-ac60-43c1-9777-0f820423e147"
      },
      "source": [
        "acetaldehyde = Chem.MolFromSmiles(\"CC=O\")\n",
        "\n",
        "array = np.empty(1)\n",
        "\n",
        "print(array.shape)\n",
        "\n",
        "DataStructs.ConvertToNumpyArray(Chem.RDKFingerprint(acetaldehyde), array)\n",
        "\n",
        "print(f\"This is what the array looks like: {array}\")\n",
        "\n",
        "print(f\"The sum of the array actually suggests it's not all zeros: {array.sum()}\")\n",
        "\n",
        "print(f\"Get the indices of where it's non-zero:\\n {np.where(array != 0.)}\")"
      ],
      "execution_count": 19,
      "outputs": [
        {
          "output_type": "stream",
          "text": [
            "(1,)\n",
            "This is what the array looks like: [0. 0. 0. ... 0. 0. 0.]\n",
            "The sum of the array actually suggests it's not all zeros: 6.0\n",
            "Get the indices of where it's non-zero:\n",
            " (array([ 993, 1075, 1308, 1772, 1833, 1907]),)\n"
          ],
          "name": "stdout"
        }
      ]
    },
    {
      "cell_type": "markdown",
      "metadata": {
        "id": "3_IUL0Lc5Asp",
        "colab_type": "text"
      },
      "source": [
        "## Measuring the similarity of molecules\n",
        "\n",
        "From chemical intuition, we know that molecules are similar based on specific patterns and functional groups. "
      ]
    },
    {
      "cell_type": "code",
      "metadata": {
        "id": "r8MkYS7C3ZAD",
        "colab_type": "code",
        "colab": {}
      },
      "source": [
        "benzene_array = np.empty(1)\n",
        "benzene_fingerprint = Chem.RDKFingerprint(benzene)\n",
        "\n",
        "acetaldehyde_array = np.empty(1)\n",
        "acetaldehyde_fingerprint = Chem.RDKFingerprint(acetaldehyde)\n",
        "\n",
        "benzonitrile_array = np.empty(1)\n",
        "benzonitrile_fingerprint = Chem.RDKFingerprint(benzonitrile)"
      ],
      "execution_count": 32,
      "outputs": []
    },
    {
      "cell_type": "code",
      "metadata": {
        "id": "A-8zUgoFCFrq",
        "colab_type": "code",
        "colab": {}
      },
      "source": [
        "array_list = [benzene_fingerprint, benzonitrile_fingerprint, acetaldehyde_fingerprint]"
      ],
      "execution_count": 33,
      "outputs": []
    },
    {
      "cell_type": "code",
      "metadata": {
        "id": "VwPAfIluBlTm",
        "colab_type": "code",
        "colab": {
          "base_uri": "https://localhost:8080/",
          "height": 34
        },
        "outputId": "b5766e45-b3a3-4619-abbc-20a7b2c9872b"
      },
      "source": [
        "DataStructs.FingerprintSimilarity(benzene_fingerprint, benzonitrile_fingerprint, metric=DataStructs.TanimotoSimilarity)"
      ],
      "execution_count": 35,
      "outputs": [
        {
          "output_type": "execute_result",
          "data": {
            "text/plain": [
              "0.19047619047619047"
            ]
          },
          "metadata": {
            "tags": []
          },
          "execution_count": 35
        }
      ]
    },
    {
      "cell_type": "code",
      "metadata": {
        "id": "gcIwLZKABqYM",
        "colab_type": "code",
        "colab": {
          "base_uri": "https://localhost:8080/",
          "height": 34
        },
        "outputId": "16135fc8-6936-4204-d403-12a011260a21"
      },
      "source": [
        "DataStructs.FingerprintSimilarity(benzene_fingerprint, benzene_fingerprint, metric=DataStructs.TanimotoSimilarity)"
      ],
      "execution_count": 36,
      "outputs": [
        {
          "output_type": "execute_result",
          "data": {
            "text/plain": [
              "1.0"
            ]
          },
          "metadata": {
            "tags": []
          },
          "execution_count": 36
        }
      ]
    },
    {
      "cell_type": "code",
      "metadata": {
        "id": "B_TXYJy7CtnO",
        "colab_type": "code",
        "colab": {
          "base_uri": "https://localhost:8080/",
          "height": 34
        },
        "outputId": "acb5adeb-c2fb-4ef7-8f88-73614dd16c00"
      },
      "source": [
        "DataStructs.FingerprintSimilarity(benzene_fingerprint, acetaldehyde_fingerprint, metric=DataStructs.TanimotoSimilarity)"
      ],
      "execution_count": 37,
      "outputs": [
        {
          "output_type": "execute_result",
          "data": {
            "text/plain": [
              "0.058823529411764705"
            ]
          },
          "metadata": {
            "tags": []
          },
          "execution_count": 37
        }
      ]
    },
    {
      "cell_type": "markdown",
      "metadata": {
        "id": "JLOxceNOEZqu",
        "colab_type": "text"
      },
      "source": [
        "Cosine similarity\n",
        "\n",
        "Euclidean distance\n",
        "\n",
        "Molecular structure $\\rightarrow$ SMILES $\\rightarrow$ Fingerprint $\\rightarrow$ Comparisons"
      ]
    }
  ],
  "metadata": {
    "colab": {
      "name": "Introduction to Chemistry in a Notebook.ipynb",
      "provenance": [],
      "collapsed_sections": []
    },
    "kernelspec": {
      "name": "python361064bitrdkitconda2231f7cd07614fa9b5f8257698e6a5f8",
      "display_name": "Python 3.6.10 64-bit ('rdkit': conda)"
    }
  },
  "nbformat": 4,
  "nbformat_minor": 0
}