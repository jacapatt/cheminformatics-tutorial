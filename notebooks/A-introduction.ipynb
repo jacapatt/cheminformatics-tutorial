{
  "nbformat": 4,
  "nbformat_minor": 0,
  "metadata": {
    "colab": {
      "name": "Introduction to Chemistry in a Notebook.ipynb",
      "provenance": [],
      "collapsed_sections": []
    },
    "kernelspec": {
      "name": "python3",
      "display_name": "Python 3"
    }
  },
  "cells": [
    {
      "cell_type": "code",
      "metadata": {
        "id": "VvEsQNdouxwa",
        "colab_type": "code",
        "colab": {
          "base_uri": "https://localhost:8080/",
          "height": 1000
        },
        "outputId": "83ef3de8-fff4-47a0-95b4-30de8ee73f0b"
      },
      "source": [
        "# This installs RDKit on this Google Colab instance.\n",
        "# Recipe from here: https://iwatobipen.wordpress.com/2018/11/01/run-rdkit-and-deep-learning-on-google-colab-rdkit/\n",
        "!wget -c https://repo.continuum.io/miniconda/Miniconda3-latest-Linux-x86_64.sh\n",
        "!chmod +x Miniconda3-latest-Linux-x86_64.sh\n",
        "!time bash ./Miniconda3-latest-Linux-x86_64.sh -b -f -p /usr/local\n",
        "!time conda install -q -y -c conda-forge rdkit\n",
        "\n",
        "# honestly not too desirable, but this points to the rdkit installation\n",
        "import sys\n",
        "sys.path.append('/usr/local/lib/python3.7/site-packages/')"
      ],
      "execution_count": 1,
      "outputs": [
        {
          "output_type": "stream",
          "text": [
            "--2020-06-25 14:30:32--  https://repo.continuum.io/miniconda/Miniconda3-latest-Linux-x86_64.sh\n",
            "Resolving repo.continuum.io (repo.continuum.io)... 104.18.201.79, 104.18.200.79, 2606:4700::6812:c84f, ...\n",
            "Connecting to repo.continuum.io (repo.continuum.io)|104.18.201.79|:443... connected.\n",
            "HTTP request sent, awaiting response... 301 Moved Permanently\n",
            "Location: https://repo.anaconda.com/miniconda/Miniconda3-latest-Linux-x86_64.sh [following]\n",
            "--2020-06-25 14:30:32--  https://repo.anaconda.com/miniconda/Miniconda3-latest-Linux-x86_64.sh\n",
            "Resolving repo.anaconda.com (repo.anaconda.com)... 104.16.130.3, 104.16.131.3, 2606:4700::6810:8203, ...\n",
            "Connecting to repo.anaconda.com (repo.anaconda.com)|104.16.130.3|:443... connected.\n",
            "HTTP request sent, awaiting response... 200 OK\n",
            "Length: 88867207 (85M) [application/x-sh]\n",
            "Saving to: ‘Miniconda3-latest-Linux-x86_64.sh’\n",
            "\n",
            "Miniconda3-latest-L 100%[===================>]  84.75M   186MB/s    in 0.5s    \n",
            "\n",
            "2020-06-25 14:30:33 (186 MB/s) - ‘Miniconda3-latest-Linux-x86_64.sh’ saved [88867207/88867207]\n",
            "\n",
            "PREFIX=/usr/local\n",
            "Unpacking payload ...\n",
            "Collecting package metadata (current_repodata.json): - \b\b\\ \b\bdone\n",
            "Solving environment: / \b\b- \b\bdone\n",
            "\n",
            "## Package Plan ##\n",
            "\n",
            "  environment location: /usr/local\n",
            "\n",
            "  added / updated specs:\n",
            "    - _libgcc_mutex==0.1=main\n",
            "    - ca-certificates==2020.1.1=0\n",
            "    - certifi==2020.4.5.1=py37_0\n",
            "    - cffi==1.14.0=py37he30daa8_1\n",
            "    - chardet==3.0.4=py37_1003\n",
            "    - conda-package-handling==1.6.1=py37h7b6447c_0\n",
            "    - conda==4.8.3=py37_0\n",
            "    - cryptography==2.9.2=py37h1ba5d50_0\n",
            "    - idna==2.9=py_1\n",
            "    - ld_impl_linux-64==2.33.1=h53a641e_7\n",
            "    - libedit==3.1.20181209=hc058e9b_0\n",
            "    - libffi==3.3=he6710b0_1\n",
            "    - libgcc-ng==9.1.0=hdf63c60_0\n",
            "    - libstdcxx-ng==9.1.0=hdf63c60_0\n",
            "    - ncurses==6.2=he6710b0_1\n",
            "    - openssl==1.1.1g=h7b6447c_0\n",
            "    - pip==20.0.2=py37_3\n",
            "    - pycosat==0.6.3=py37h7b6447c_0\n",
            "    - pycparser==2.20=py_0\n",
            "    - pyopenssl==19.1.0=py37_0\n",
            "    - pysocks==1.7.1=py37_0\n",
            "    - python==3.7.7=hcff3b4d_5\n",
            "    - readline==8.0=h7b6447c_0\n",
            "    - requests==2.23.0=py37_0\n",
            "    - ruamel_yaml==0.15.87=py37h7b6447c_0\n",
            "    - setuptools==46.4.0=py37_0\n",
            "    - six==1.14.0=py37_0\n",
            "    - sqlite==3.31.1=h62c20be_1\n",
            "    - tk==8.6.8=hbc83047_0\n",
            "    - tqdm==4.46.0=py_0\n",
            "    - urllib3==1.25.8=py37_0\n",
            "    - wheel==0.34.2=py37_0\n",
            "    - xz==5.2.5=h7b6447c_0\n",
            "    - yaml==0.1.7=had09818_2\n",
            "    - zlib==1.2.11=h7b6447c_3\n",
            "\n",
            "\n",
            "The following NEW packages will be INSTALLED:\n",
            "\n",
            "  _libgcc_mutex      pkgs/main/linux-64::_libgcc_mutex-0.1-main\n",
            "  ca-certificates    pkgs/main/linux-64::ca-certificates-2020.1.1-0\n",
            "  certifi            pkgs/main/linux-64::certifi-2020.4.5.1-py37_0\n",
            "  cffi               pkgs/main/linux-64::cffi-1.14.0-py37he30daa8_1\n",
            "  chardet            pkgs/main/linux-64::chardet-3.0.4-py37_1003\n",
            "  conda              pkgs/main/linux-64::conda-4.8.3-py37_0\n",
            "  conda-package-han~ pkgs/main/linux-64::conda-package-handling-1.6.1-py37h7b6447c_0\n",
            "  cryptography       pkgs/main/linux-64::cryptography-2.9.2-py37h1ba5d50_0\n",
            "  idna               pkgs/main/noarch::idna-2.9-py_1\n",
            "  ld_impl_linux-64   pkgs/main/linux-64::ld_impl_linux-64-2.33.1-h53a641e_7\n",
            "  libedit            pkgs/main/linux-64::libedit-3.1.20181209-hc058e9b_0\n",
            "  libffi             pkgs/main/linux-64::libffi-3.3-he6710b0_1\n",
            "  libgcc-ng          pkgs/main/linux-64::libgcc-ng-9.1.0-hdf63c60_0\n",
            "  libstdcxx-ng       pkgs/main/linux-64::libstdcxx-ng-9.1.0-hdf63c60_0\n",
            "  ncurses            pkgs/main/linux-64::ncurses-6.2-he6710b0_1\n",
            "  openssl            pkgs/main/linux-64::openssl-1.1.1g-h7b6447c_0\n",
            "  pip                pkgs/main/linux-64::pip-20.0.2-py37_3\n",
            "  pycosat            pkgs/main/linux-64::pycosat-0.6.3-py37h7b6447c_0\n",
            "  pycparser          pkgs/main/noarch::pycparser-2.20-py_0\n",
            "  pyopenssl          pkgs/main/linux-64::pyopenssl-19.1.0-py37_0\n",
            "  pysocks            pkgs/main/linux-64::pysocks-1.7.1-py37_0\n",
            "  python             pkgs/main/linux-64::python-3.7.7-hcff3b4d_5\n",
            "  readline           pkgs/main/linux-64::readline-8.0-h7b6447c_0\n",
            "  requests           pkgs/main/linux-64::requests-2.23.0-py37_0\n",
            "  ruamel_yaml        pkgs/main/linux-64::ruamel_yaml-0.15.87-py37h7b6447c_0\n",
            "  setuptools         pkgs/main/linux-64::setuptools-46.4.0-py37_0\n",
            "  six                pkgs/main/linux-64::six-1.14.0-py37_0\n",
            "  sqlite             pkgs/main/linux-64::sqlite-3.31.1-h62c20be_1\n",
            "  tk                 pkgs/main/linux-64::tk-8.6.8-hbc83047_0\n",
            "  tqdm               pkgs/main/noarch::tqdm-4.46.0-py_0\n",
            "  urllib3            pkgs/main/linux-64::urllib3-1.25.8-py37_0\n",
            "  wheel              pkgs/main/linux-64::wheel-0.34.2-py37_0\n",
            "  xz                 pkgs/main/linux-64::xz-5.2.5-h7b6447c_0\n",
            "  yaml               pkgs/main/linux-64::yaml-0.1.7-had09818_2\n",
            "  zlib               pkgs/main/linux-64::zlib-1.2.11-h7b6447c_3\n",
            "\n",
            "\n",
            "Preparing transaction: | \b\b/ \b\b- \b\b\\ \b\bdone\n",
            "Executing transaction: / \b\b- \b\b\\ \b\b| \b\b/ \b\b- \b\b\\ \b\b| \b\b/ \b\b- \b\b\\ \b\b| \b\b/ \b\bdone\n",
            "installation finished.\n",
            "WARNING:\n",
            "    You currently have a PYTHONPATH environment variable set. This may cause\n",
            "    unexpected behavior when running the Python interpreter in Miniconda3.\n",
            "    For best results, please verify that your PYTHONPATH only points to\n",
            "    directories of packages that are compatible with the Python interpreter\n",
            "    in Miniconda3: /usr/local\n",
            "\n",
            "real\t0m26.238s\n",
            "user\t0m14.484s\n",
            "sys\t0m4.603s\n",
            "Collecting package metadata (current_repodata.json): ...working... done\n",
            "Solving environment: ...working... done\n",
            "\n",
            "## Package Plan ##\n",
            "\n",
            "  environment location: /usr/local\n",
            "\n",
            "  added / updated specs:\n",
            "    - rdkit\n",
            "\n",
            "\n",
            "The following packages will be downloaded:\n",
            "\n",
            "    package                    |            build\n",
            "    ---------------------------|-----------------\n",
            "    boost-1.72.0               |   py37h9de70de_0         316 KB  conda-forge\n",
            "    boost-cpp-1.72.0           |       h7b93d67_1        21.8 MB  conda-forge\n",
            "    bzip2-1.0.8                |       h516909a_2         396 KB  conda-forge\n",
            "    ca-certificates-2020.6.20  |       hecda079_0         145 KB  conda-forge\n",
            "    cairo-1.16.0               |    h3fc0475_1004         1.5 MB  conda-forge\n",
            "    certifi-2020.6.20          |   py37hc8dfbb8_0         151 KB  conda-forge\n",
            "    conda-4.8.3                |   py37hc8dfbb8_1         3.0 MB  conda-forge\n",
            "    fontconfig-2.13.1          |    h1056068_1002         365 KB  conda-forge\n",
            "    freetype-2.10.2            |       he06d7ca_0         905 KB  conda-forge\n",
            "    glib-2.63.1                |       h3eb4bd4_1         2.9 MB\n",
            "    icu-67.1                   |       he1b5a44_0        12.9 MB  conda-forge\n",
            "    jpeg-9d                    |       h516909a_0         266 KB  conda-forge\n",
            "    libblas-3.8.0              |      14_openblas          10 KB  conda-forge\n",
            "    libcblas-3.8.0             |      14_openblas          10 KB  conda-forge\n",
            "    libgfortran-ng-7.5.0       |       hdf63c60_6         1.7 MB  conda-forge\n",
            "    libiconv-1.15              |    h516909a_1006         2.0 MB  conda-forge\n",
            "    liblapack-3.8.0            |      14_openblas          10 KB  conda-forge\n",
            "    libopenblas-0.3.7          |       h5ec1e0e_6         7.6 MB  conda-forge\n",
            "    libpng-1.6.37              |       hed695b0_1         308 KB  conda-forge\n",
            "    libtiff-4.1.0              |       hc7e4089_6         668 KB  conda-forge\n",
            "    libuuid-2.32.1             |    h14c3975_1000          26 KB  conda-forge\n",
            "    libwebp-base-1.1.0         |       h516909a_3         845 KB  conda-forge\n",
            "    libxcb-1.13                |    h14c3975_1002         396 KB  conda-forge\n",
            "    libxml2-2.9.10             |       h72b56ed_1         1.3 MB  conda-forge\n",
            "    lz4-c-1.9.2                |       he1b5a44_1         226 KB  conda-forge\n",
            "    numpy-1.18.5               |   py37h8960a57_0         5.1 MB  conda-forge\n",
            "    olefile-0.46               |             py_0          31 KB  conda-forge\n",
            "    openssl-1.1.1g             |       h516909a_0         2.1 MB  conda-forge\n",
            "    pandas-1.0.5               |   py37h0da4684_0        10.1 MB  conda-forge\n",
            "    pcre-8.44                  |       he1b5a44_0         261 KB  conda-forge\n",
            "    pillow-7.1.2               |   py37hb39fc2d_0         603 KB\n",
            "    pixman-0.38.0              |    h516909a_1003         594 KB  conda-forge\n",
            "    pthread-stubs-0.4          |    h14c3975_1001           5 KB  conda-forge\n",
            "    pycairo-1.19.1             |   py37h01af8b0_3          77 KB  conda-forge\n",
            "    python-dateutil-2.8.1      |             py_0         220 KB  conda-forge\n",
            "    python_abi-3.7             |          1_cp37m           4 KB  conda-forge\n",
            "    pytz-2020.1                |     pyh9f0ad1d_0         227 KB  conda-forge\n",
            "    rdkit-2020.03.3            |   py37hdd87690_0        24.7 MB  conda-forge\n",
            "    xorg-kbproto-1.0.7         |    h14c3975_1002          26 KB  conda-forge\n",
            "    xorg-libice-1.0.10         |       h516909a_0          57 KB  conda-forge\n",
            "    xorg-libsm-1.2.3           |    h84519dc_1000          25 KB  conda-forge\n",
            "    xorg-libx11-1.6.9          |       h516909a_0         918 KB  conda-forge\n",
            "    xorg-libxau-1.0.9          |       h14c3975_0          13 KB  conda-forge\n",
            "    xorg-libxdmcp-1.1.3        |       h516909a_0          18 KB  conda-forge\n",
            "    xorg-libxext-1.3.4         |       h516909a_0          51 KB  conda-forge\n",
            "    xorg-libxrender-0.9.10     |    h516909a_1002          31 KB  conda-forge\n",
            "    xorg-renderproto-0.11.1    |    h14c3975_1002           8 KB  conda-forge\n",
            "    xorg-xextproto-7.3.0       |    h14c3975_1002          27 KB  conda-forge\n",
            "    xorg-xproto-7.0.31         |    h14c3975_1007          72 KB  conda-forge\n",
            "    zstd-1.4.4                 |       h6597ccf_3         991 KB  conda-forge\n",
            "    ------------------------------------------------------------\n",
            "                                           Total:       105.7 MB\n",
            "\n",
            "The following NEW packages will be INSTALLED:\n",
            "\n",
            "  boost              conda-forge/linux-64::boost-1.72.0-py37h9de70de_0\n",
            "  boost-cpp          conda-forge/linux-64::boost-cpp-1.72.0-h7b93d67_1\n",
            "  bzip2              conda-forge/linux-64::bzip2-1.0.8-h516909a_2\n",
            "  cairo              conda-forge/linux-64::cairo-1.16.0-h3fc0475_1004\n",
            "  fontconfig         conda-forge/linux-64::fontconfig-2.13.1-h1056068_1002\n",
            "  freetype           conda-forge/linux-64::freetype-2.10.2-he06d7ca_0\n",
            "  glib               pkgs/main/linux-64::glib-2.63.1-h3eb4bd4_1\n",
            "  icu                conda-forge/linux-64::icu-67.1-he1b5a44_0\n",
            "  jpeg               conda-forge/linux-64::jpeg-9d-h516909a_0\n",
            "  libblas            conda-forge/linux-64::libblas-3.8.0-14_openblas\n",
            "  libcblas           conda-forge/linux-64::libcblas-3.8.0-14_openblas\n",
            "  libgfortran-ng     conda-forge/linux-64::libgfortran-ng-7.5.0-hdf63c60_6\n",
            "  libiconv           conda-forge/linux-64::libiconv-1.15-h516909a_1006\n",
            "  liblapack          conda-forge/linux-64::liblapack-3.8.0-14_openblas\n",
            "  libopenblas        conda-forge/linux-64::libopenblas-0.3.7-h5ec1e0e_6\n",
            "  libpng             conda-forge/linux-64::libpng-1.6.37-hed695b0_1\n",
            "  libtiff            conda-forge/linux-64::libtiff-4.1.0-hc7e4089_6\n",
            "  libuuid            conda-forge/linux-64::libuuid-2.32.1-h14c3975_1000\n",
            "  libwebp-base       conda-forge/linux-64::libwebp-base-1.1.0-h516909a_3\n",
            "  libxcb             conda-forge/linux-64::libxcb-1.13-h14c3975_1002\n",
            "  libxml2            conda-forge/linux-64::libxml2-2.9.10-h72b56ed_1\n",
            "  lz4-c              conda-forge/linux-64::lz4-c-1.9.2-he1b5a44_1\n",
            "  numpy              conda-forge/linux-64::numpy-1.18.5-py37h8960a57_0\n",
            "  olefile            conda-forge/noarch::olefile-0.46-py_0\n",
            "  pandas             conda-forge/linux-64::pandas-1.0.5-py37h0da4684_0\n",
            "  pcre               conda-forge/linux-64::pcre-8.44-he1b5a44_0\n",
            "  pillow             pkgs/main/linux-64::pillow-7.1.2-py37hb39fc2d_0\n",
            "  pixman             conda-forge/linux-64::pixman-0.38.0-h516909a_1003\n",
            "  pthread-stubs      conda-forge/linux-64::pthread-stubs-0.4-h14c3975_1001\n",
            "  pycairo            conda-forge/linux-64::pycairo-1.19.1-py37h01af8b0_3\n",
            "  python-dateutil    conda-forge/noarch::python-dateutil-2.8.1-py_0\n",
            "  python_abi         conda-forge/linux-64::python_abi-3.7-1_cp37m\n",
            "  pytz               conda-forge/noarch::pytz-2020.1-pyh9f0ad1d_0\n",
            "  rdkit              conda-forge/linux-64::rdkit-2020.03.3-py37hdd87690_0\n",
            "  xorg-kbproto       conda-forge/linux-64::xorg-kbproto-1.0.7-h14c3975_1002\n",
            "  xorg-libice        conda-forge/linux-64::xorg-libice-1.0.10-h516909a_0\n",
            "  xorg-libsm         conda-forge/linux-64::xorg-libsm-1.2.3-h84519dc_1000\n",
            "  xorg-libx11        conda-forge/linux-64::xorg-libx11-1.6.9-h516909a_0\n",
            "  xorg-libxau        conda-forge/linux-64::xorg-libxau-1.0.9-h14c3975_0\n",
            "  xorg-libxdmcp      conda-forge/linux-64::xorg-libxdmcp-1.1.3-h516909a_0\n",
            "  xorg-libxext       conda-forge/linux-64::xorg-libxext-1.3.4-h516909a_0\n",
            "  xorg-libxrender    conda-forge/linux-64::xorg-libxrender-0.9.10-h516909a_1002\n",
            "  xorg-renderproto   conda-forge/linux-64::xorg-renderproto-0.11.1-h14c3975_1002\n",
            "  xorg-xextproto     conda-forge/linux-64::xorg-xextproto-7.3.0-h14c3975_1002\n",
            "  xorg-xproto        conda-forge/linux-64::xorg-xproto-7.0.31-h14c3975_1007\n",
            "  zstd               conda-forge/linux-64::zstd-1.4.4-h6597ccf_3\n",
            "\n",
            "The following packages will be UPDATED:\n",
            "\n",
            "  ca-certificates     pkgs/main::ca-certificates-2020.1.1-0 --> conda-forge::ca-certificates-2020.6.20-hecda079_0\n",
            "  certifi              pkgs/main::certifi-2020.4.5.1-py37_0 --> conda-forge::certifi-2020.6.20-py37hc8dfbb8_0\n",
            "  conda                       pkgs/main::conda-4.8.3-py37_0 --> conda-forge::conda-4.8.3-py37hc8dfbb8_1\n",
            "\n",
            "The following packages will be SUPERSEDED by a higher-priority channel:\n",
            "\n",
            "  openssl              pkgs/main::openssl-1.1.1g-h7b6447c_0 --> conda-forge::openssl-1.1.1g-h516909a_0\n",
            "\n",
            "\n",
            "Preparing transaction: ...working... done\n",
            "Verifying transaction: ...working... done\n",
            "Executing transaction: ...working... done\n",
            "\n",
            "real\t0m43.265s\n",
            "user\t0m36.992s\n",
            "sys\t0m4.495s\n"
          ],
          "name": "stdout"
        }
      ]
    },
    {
      "cell_type": "markdown",
      "metadata": {
        "id": "R77zeP4wu358",
        "colab_type": "text"
      },
      "source": [
        "# Introduction to Chemistry in Notebook Environments\n",
        "\n",
        "## Background\n",
        "\n",
        "With the advent and democratization of machine learning methods in Python, anyone can study chemistry on a computer more or less in the same way as you could on pen and paper, albeit at a much larger scale because of the access to extremely large datasets (big data) dealing with millions of molecules at a time. This field, called cheminformatics, focuses around the study of chemistry at a very large scale to find molecules with desirable drug and/or material properties without having to step into a lab.\n",
        "\n",
        "Because there's a difference in working environment, the main difference in aspects between pen and paper chemistry and cheminformatics is _how we can cope with very large datasets_. While traditionally we could just draw on pen and paper molecular structures (which are actually graphs), computers natively do not extract properties and features out of structures: to computers, these are no more than just pictures while to chemists they mean much more. Thus, we need ways to _represent_ molecules in a way machines can process, and we can manipulate. From these representations we can find ways to predict reactivity, find similarities between functional groups/motifs, and so on."
      ]
    },
    {
      "cell_type": "markdown",
      "metadata": {
        "id": "KUU6LkgXy3Yj",
        "colab_type": "text"
      },
      "source": [
        "## Machine representations of molecules\n",
        "\n",
        "As mentioned before, pictures of molecular structures don't mean much to computers on their own. At a low level, machines deal in bytes (i.e. numerical values), whereas chemists deal with 2D/3D structures better. There are a few ways to meet in the middle, and make it easier for humans and/or machines in some way or another.\n",
        "\n",
        "### Cartesian Coordinates\n",
        "\n",
        "Perhaps the most ubiquitious and intuitive is to represent a molecular structure in 3D space. You can structure an array to have $N$ rows corresponding to $N$ atoms in a molecule, and each row has four elements corresponding to atom, $x, y, z$. Benzene, for example, would look like this:\n",
        "\n",
        "```\n",
        "C          1.38317       -0.22152        0.00569\n",
        "C          0.88120        1.07987        0.01399\n",
        "C         -0.49673        1.29605        0.01080\n",
        "C         -1.37285        0.21071       -0.00446\n",
        "C         -0.87099       -1.09054       -0.01442\n",
        "C          0.50683       -1.30673       -0.00815\n",
        "H          2.45657       -0.39007        0.00970\n",
        "H          1.56387        1.92530        0.02363\n",
        "H         -0.88772        2.31004        0.01955\n",
        "H         -2.44645        0.37922       -0.00816\n",
        "H         -1.55362       -1.93599       -0.02724\n",
        "H          0.89787       -2.32076       -0.01358\n",
        "```\n",
        "\n",
        "This is both machine readable and—albeit cumbersome—human editable. The trouble is that Cartesian coordinates are not invariant to translation and rotation: I can move the structure in 3D space and you will get a different set of coordinates, but the actual structure itself does not change.\n",
        "\n",
        "### Simplified Molecular-Input Line-Entry System\n",
        "\n",
        "Another way to represent structures, and probably the most commonly used way in cheminformatics is to use the [simplified molecular-input line-entry system (SMILES)](https://en.wikipedia.org/wiki/Simplified_molecular-input_line-entry_system) notation, where you encode a molecular structure as a single line of characters that represent atoms, bonding/connectivity, and charge state. This has the advantage of representing the structure natively, and is therefore invariant to translation and rotation. The corresponding SMILES string for benzene is simply `c1ccccc1`: lower case letters represent aromatic carbons, and the `1` reflects connectivity, saying the first carbon is connected to the last carbon. In this representation, hydrogens are implicit, although you _can_ specify them explicitly.\n",
        "\n",
        "With this, we can actually start drawing up molecules with a [Python package called `rdkit`](https://www.rdkit.org/docs/GettingStartedInPython.html)."
      ]
    },
    {
      "cell_type": "code",
      "metadata": {
        "id": "M1aY5_W1wfJh",
        "colab_type": "code",
        "colab": {}
      },
      "source": [
        "from rdkit import Chem\n",
        "from rdkit.Chem import DataStructs\n",
        "from rdkit.Chem import AllChem\n",
        "from rdkit.Chem.Draw import IPythonConsole\n",
        "\n",
        "import numpy as np"
      ],
      "execution_count": 2,
      "outputs": []
    },
    {
      "cell_type": "code",
      "metadata": {
        "id": "V7Oz83Dbwkvf",
        "colab_type": "code",
        "colab": {}
      },
      "source": [
        "benzene = Chem.MolFromSmiles(\"c1ccccc1\")"
      ],
      "execution_count": 3,
      "outputs": []
    },
    {
      "cell_type": "code",
      "metadata": {
        "id": "OShZ4qJd2UKh",
        "colab_type": "code",
        "colab": {
          "base_uri": "https://localhost:8080/",
          "height": 34
        },
        "outputId": "965c6658-3ea6-4172-91d9-2fa08985d491"
      },
      "source": [
        "type(benzene)"
      ],
      "execution_count": 4,
      "outputs": [
        {
          "output_type": "execute_result",
          "data": {
            "text/plain": [
              "rdkit.Chem.rdchem.Mol"
            ]
          },
          "metadata": {
            "tags": []
          },
          "execution_count": 4
        }
      ]
    },
    {
      "cell_type": "code",
      "metadata": {
        "id": "2NM37c6V17bt",
        "colab_type": "code",
        "colab": {
          "base_uri": "https://localhost:8080/",
          "height": 167
        },
        "outputId": "92c3dbff-8352-433d-b6e7-fe863cbecf53"
      },
      "source": [
        "# in a local notebook where rdkit is properly installed, \n",
        "# a `Mol` object will actually be represented as a picture when called\n",
        "benzene"
      ],
      "execution_count": 5,
      "outputs": [
        {
          "output_type": "execute_result",
          "data": {
            "image/png": "[encoded data removed]",
            "text/plain": [
              "<rdkit.Chem.rdchem.Mol at 0x7f764b6b3440>"
            ]
          },
          "metadata": {
            "tags": []
          },
          "execution_count": 5
        }
      ]
    },
    {
      "cell_type": "code",
      "metadata": {
        "id": "IybJdNIq4tIi",
        "colab_type": "code",
        "colab": {
          "base_uri": "https://localhost:8080/",
          "height": 34
        },
        "outputId": "7e2ca65b-44c9-41ab-a1d2-b2d1b305caf3"
      },
      "source": [
        "# reverse direction. The canonical is important!\n",
        "Chem.MolToSmiles(benzene, canonical=True)"
      ],
      "execution_count": 55,
      "outputs": [
        {
          "output_type": "execute_result",
          "data": {
            "text/plain": [
              "'c1ccccc1'"
            ]
          },
          "metadata": {
            "tags": []
          },
          "execution_count": 55
        }
      ]
    },
    {
      "cell_type": "markdown",
      "metadata": {
        "id": "uD9BiHww37XR",
        "colab_type": "text"
      },
      "source": [
        "If you're not sure how to write the SMILES string for a molecule, Wikipedia has the entry for simple molecules, although it is more consistent to search it on [PubChem](https://pubchem.ncbi.nlm.nih.gov/) or [ChemSpider](https://chemspider.com). Try find the SMILES for:\n",
        "\n",
        "1. Acetaldehyde\n",
        "2. Benzonitrile"
      ]
    },
    {
      "cell_type": "code",
      "metadata": {
        "id": "ezut3uMd8WSk",
        "colab_type": "code",
        "colab": {
          "base_uri": "https://localhost:8080/",
          "height": 167
        },
        "outputId": "2b0f8419-81de-4a73-9630-787cdf3d838a"
      },
      "source": [
        "# HC5N\n",
        "Chem.MolFromSmiles(\"C#CC#CC#N\")"
      ],
      "execution_count": 14,
      "outputs": [
        {
          "output_type": "execute_result",
          "data": {
            "image/png": "[encoded data removed]",
            "text/plain": [
              "<rdkit.Chem.rdchem.Mol at 0x7f764b6b6bc0>"
            ]
          },
          "metadata": {
            "tags": []
          },
          "execution_count": 14
        }
      ]
    },
    {
      "cell_type": "code",
      "metadata": {
        "id": "hbmd4zqy4-0l",
        "colab_type": "code",
        "colab": {}
      },
      "source": [
        "# Fill me in!"
      ],
      "execution_count": null,
      "outputs": []
    },
    {
      "cell_type": "code",
      "metadata": {
        "id": "i7Nb4usf4-8h",
        "colab_type": "code",
        "colab": {}
      },
      "source": [
        "smiles = [\"c1ccccc1\", \"C1=CC=C(C=C1)C#N\", \"CC=O\"]\n",
        "\n",
        "# write a for loop to convert all the SMILES strings into `Mol`s\n",
        "mols = ..."
      ],
      "execution_count": null,
      "outputs": []
    },
    {
      "cell_type": "markdown",
      "metadata": {
        "id": "Jtrncq_Y5uGO",
        "colab_type": "text"
      },
      "source": [
        "### Molecular fingerprinting\n",
        "\n",
        "While the SMILES representation certainly helps with mediating between humans and computers, it still isn't a very convenient way for machines to understand and quantify certain properties: SMILES encodes the structure and the connectivity, but to someone who doesn't know any chemistry at all it doesn't mean anything, and that's the position a computer is in. We need to go further in helping a computer _extract features_ from SMILES, which is telling it where and what to look for in a molecule.\n",
        "\n",
        "\"Molecular Fingerprinting\" is a way to transform intermediate representations like SMILES into numeric vector representations based on certain properties (thus fingerprinting), which are then used to make comparisons and predictions."
      ]
    },
    {
      "cell_type": "code",
      "metadata": {
        "id": "tvBlBLPb_GMd",
        "colab_type": "code",
        "colab": {
          "base_uri": "https://localhost:8080/",
          "height": 34
        },
        "outputId": "5749b038-2da4-4b66-f947-8de39b6952b5"
      },
      "source": [
        "Chem.RDKFingerprint(benzene)"
      ],
      "execution_count": 16,
      "outputs": [
        {
          "output_type": "execute_result",
          "data": {
            "text/plain": [
              "<rdkit.DataStructs.cDataStructs.ExplicitBitVect at 0x7f764b7f4a80>"
            ]
          },
          "metadata": {
            "tags": []
          },
          "execution_count": 16
        }
      ]
    },
    {
      "cell_type": "code",
      "metadata": {
        "id": "Rfui_jvV2anT",
        "colab_type": "code",
        "colab": {
          "base_uri": "https://localhost:8080/",
          "height": 121
        },
        "outputId": "68572983-c334-4c1f-87f8-d0ec50def3d5"
      },
      "source": [
        "array = np.empty(1)\n",
        "\n",
        "print(array.shape)\n",
        "\n",
        "DataStructs.ConvertToNumpyArray(Chem.RDKFingerprint(benzene), array)\n",
        "\n",
        "print(f\"This is what the array looks like: {array}\")\n",
        "\n",
        "print(f\"The sum of the array actually suggests it's not all zeros: {array.sum()}\")\n",
        "\n",
        "print(f\"Get the indices of where it's non-zero:\\n {np.where(array != 0.)}\")"
      ],
      "execution_count": 15,
      "outputs": [
        {
          "output_type": "stream",
          "text": [
            "(1,)\n",
            "This is what the array looks like: [0. 0. 0. ... 0. 0. 0.]\n",
            "The sum of the array actually suggests it's not all zeros: 12.0\n",
            "Get the indices of where it's non-zero:\n",
            " (array([ 103,  161,  194,  294,  330,  792,  842, 1026, 1287, 1784, 1889,\n",
            "       1907]),)\n"
          ],
          "name": "stdout"
        }
      ]
    },
    {
      "cell_type": "code",
      "metadata": {
        "id": "SXHWFSoo_vKW",
        "colab_type": "code",
        "colab": {
          "base_uri": "https://localhost:8080/",
          "height": 191
        },
        "outputId": "7f105220-0269-41a0-a8e7-53f08c9d0db2"
      },
      "source": [
        "benzonitrile = Chem.MolFromSmiles(\"C1=CC=C(C=C1)C#N\")\n",
        "\n",
        "array = np.empty(1)\n",
        "\n",
        "print(array.shape)\n",
        "\n",
        "DataStructs.ConvertToNumpyArray(Chem.RDKFingerprint(benzonitrile), array)\n",
        "\n",
        "print(f\"This is what the array looks like: {array}\")\n",
        "\n",
        "print(f\"The sum of the array actually suggests it's not all zeros: {array.sum()}\")\n",
        "\n",
        "print(f\"Get the indices of where it's non-zero:\\n {np.where(array != 0.)}\")"
      ],
      "execution_count": 17,
      "outputs": [
        {
          "output_type": "stream",
          "text": [
            "(1,)\n",
            "This is what the array looks like: [0. 0. 0. ... 0. 0. 0.]\n",
            "The sum of the array actually suggests it's not all zeros: 63.0\n",
            "Get the indices of where it's non-zero:\n",
            " (array([  50,  103,  146,  161,  194,  248,  287,  294,  305,  330,  337,\n",
            "        411,  434,  441,  443,  475,  704,  730,  737,  744,  792,  798,\n",
            "        820,  830,  842,  854,  855,  928,  930,  952,  977, 1013, 1026,\n",
            "       1060, 1064, 1174, 1219, 1275, 1283, 1287, 1320, 1333, 1336, 1338,\n",
            "       1343, 1456, 1545, 1553, 1577, 1692, 1694, 1699, 1784, 1806, 1816,\n",
            "       1824, 1872, 1888, 1889, 1907, 1909, 1941, 2037]),)\n"
          ],
          "name": "stdout"
        }
      ]
    },
    {
      "cell_type": "code",
      "metadata": {
        "id": "lQu03joyAO0k",
        "colab_type": "code",
        "colab": {
          "base_uri": "https://localhost:8080/",
          "height": 104
        },
        "outputId": "79760b63-ac60-43c1-9777-0f820423e147"
      },
      "source": [
        "acetaldehyde = Chem.MolFromSmiles(\"CC=O\")\n",
        "\n",
        "array = np.empty(1)\n",
        "\n",
        "print(array.shape)\n",
        "\n",
        "DataStructs.ConvertToNumpyArray(Chem.RDKFingerprint(acetaldehyde), array)\n",
        "\n",
        "print(f\"This is what the array looks like: {array}\")\n",
        "\n",
        "print(f\"The sum of the array actually suggests it's not all zeros: {array.sum()}\")\n",
        "\n",
        "print(f\"Get the indices of where it's non-zero:\\n {np.where(array != 0.)}\")"
      ],
      "execution_count": 19,
      "outputs": [
        {
          "output_type": "stream",
          "text": [
            "(1,)\n",
            "This is what the array looks like: [0. 0. 0. ... 0. 0. 0.]\n",
            "The sum of the array actually suggests it's not all zeros: 6.0\n",
            "Get the indices of where it's non-zero:\n",
            " (array([ 993, 1075, 1308, 1772, 1833, 1907]),)\n"
          ],
          "name": "stdout"
        }
      ]
    },
    {
      "cell_type": "markdown",
      "metadata": {
        "id": "3_IUL0Lc5Asp",
        "colab_type": "text"
      },
      "source": [
        "## Measuring the similarity of molecules\n",
        "\n",
        "From chemical intuition, we know that molecules are similar based on specific patterns and functional groups. "
      ]
    },
    {
      "cell_type": "code",
      "metadata": {
        "id": "r8MkYS7C3ZAD",
        "colab_type": "code",
        "colab": {}
      },
      "source": [
        "benzene_array = np.empty(1)\n",
        "benzene_fingerprint = Chem.RDKFingerprint(benzene)\n",
        "\n",
        "acetaldehyde_array = np.empty(1)\n",
        "acetaldehyde_fingerprint = Chem.RDKFingerprint(acetaldehyde)\n",
        "\n",
        "benzonitrile_array = np.empty(1)\n",
        "benzonitrile_fingerprint = Chem.RDKFingerprint(benzonitrile)"
      ],
      "execution_count": 32,
      "outputs": []
    },
    {
      "cell_type": "code",
      "metadata": {
        "id": "A-8zUgoFCFrq",
        "colab_type": "code",
        "colab": {}
      },
      "source": [
        "array_list = [benzene_fingerprint, benzonitrile_fingerprint, acetaldehyde_fingerprint]"
      ],
      "execution_count": 33,
      "outputs": []
    },
    {
      "cell_type": "code",
      "metadata": {
        "id": "VwPAfIluBlTm",
        "colab_type": "code",
        "colab": {
          "base_uri": "https://localhost:8080/",
          "height": 34
        },
        "outputId": "b5766e45-b3a3-4619-abbc-20a7b2c9872b"
      },
      "source": [
        "DataStructs.FingerprintSimilarity(benzene_fingerprint, benzonitrile_fingerprint, metric=DataStructs.TanimotoSimilarity)"
      ],
      "execution_count": 35,
      "outputs": [
        {
          "output_type": "execute_result",
          "data": {
            "text/plain": [
              "0.19047619047619047"
            ]
          },
          "metadata": {
            "tags": []
          },
          "execution_count": 35
        }
      ]
    },
    {
      "cell_type": "code",
      "metadata": {
        "id": "gcIwLZKABqYM",
        "colab_type": "code",
        "colab": {
          "base_uri": "https://localhost:8080/",
          "height": 34
        },
        "outputId": "16135fc8-6936-4204-d403-12a011260a21"
      },
      "source": [
        "DataStructs.FingerprintSimilarity(benzene_fingerprint, benzene_fingerprint, metric=DataStructs.TanimotoSimilarity)"
      ],
      "execution_count": 36,
      "outputs": [
        {
          "output_type": "execute_result",
          "data": {
            "text/plain": [
              "1.0"
            ]
          },
          "metadata": {
            "tags": []
          },
          "execution_count": 36
        }
      ]
    },
    {
      "cell_type": "code",
      "metadata": {
        "id": "B_TXYJy7CtnO",
        "colab_type": "code",
        "colab": {
          "base_uri": "https://localhost:8080/",
          "height": 34
        },
        "outputId": "acb5adeb-c2fb-4ef7-8f88-73614dd16c00"
      },
      "source": [
        "DataStructs.FingerprintSimilarity(benzene_fingerprint, acetaldehyde_fingerprint, metric=DataStructs.TanimotoSimilarity)"
      ],
      "execution_count": 37,
      "outputs": [
        {
          "output_type": "execute_result",
          "data": {
            "text/plain": [
              "0.058823529411764705"
            ]
          },
          "metadata": {
            "tags": []
          },
          "execution_count": 37
        }
      ]
    },
    {
      "cell_type": "markdown",
      "metadata": {
        "id": "JLOxceNOEZqu",
        "colab_type": "text"
      },
      "source": [
        "Cosine similarity\n",
        "\n",
        "Euclidean distance\n",
        "\n",
        "Molecular structure $\\rightarrow$ SMILES $\\rightarrow$ Fingerprint $\\rightarrow$ Comparisons"
      ]
    }
  ]
}