{
 "cells": [
  {
   "cell_type": "markdown",
   "metadata": {},
   "source": [
    "# Dataset Cleaning and Exploration\n",
    "\n",
    "To prepare for our ultimate task of using molecular embeddings to predict abundances and detectability, we need to put our dataset into working order. This is typically referred to as \"cleaning\", where we're making sure that the data will be valid (free of missing data, for example) and duplicate entries are removed. We will also need to inspect the data to make sure that entries we expect to be there are present, as well as observe some general trends where we can. \n",
    "\n",
    "Since we're looking at such a large dataset, we need to be able to inspect it from a microscopic and a macroscopic level. Combining both perspectives gives you an overview of what the dataset looks like, and in turn may give you insight into why/how a machine learning model behaves the way it does.\n",
    "\n",
    "The first part of this notebook will be combining the three datasets: QM9, ZINC15, and KIDA. The latter is actually obtained by scraping their website, i.e. extracting the relevant information from tables in websites. "
   ]
  },
  {
   "cell_type": "code",
   "execution_count": 1,
   "metadata": {
    "tags": []
   },
   "outputs": [
    {
     "name": "stderr",
     "output_type": "stream",
     "text": [
      "Traceback (most recent call last):\n",
      "  File \"/home/kelvin/anaconda3/envs/rdkit/lib/python3.6/site-packages/rdkit/Chem/PandasTools.py\", line 130, in <module>\n",
      "    if 'display.width' in pd.core.config._registered_options:\n",
      "AttributeError: module 'pandas.core' has no attribute 'config'\n"
     ]
    }
   ],
   "source": [
    "from pathlib import Path\n",
    "from tempfile import NamedTemporaryFile\n",
    "import fileinput\n",
    "import os\n",
    "\n",
    "import numpy as np\n",
    "import pandas as pd\n",
    "from mol2vec import features\n",
    "from rdkit import Chem\n",
    "from rdkit.Chem.Draw import IPythonConsole\n",
    "from rdkit.Chem import Descriptors\n",
    "from gensim.models import word2vec"
   ]
  },
  {
   "cell_type": "markdown",
   "metadata": {},
   "source": [
    "## Loading and combining SMILES from the two datasets"
   ]
  },
  {
   "cell_type": "code",
   "execution_count": 2,
   "metadata": {},
   "outputs": [],
   "source": [
    "qm9 = pd.read_csv(\"../data/gdb9_prop_smiles.csv.tar.gz\")\n",
    "smi_list = qm9[\"smiles\"].dropna().to_list()"
   ]
  },
  {
   "cell_type": "code",
   "execution_count": 3,
   "metadata": {
    "tags": []
   },
   "outputs": [],
   "source": [
    "for smi_file in Path(\"../data/\").rglob(\"*/*.smi\"):\n",
    "    temp = smi_file.read_text().split(\"\\n\")[1:]\n",
    "    for line in temp:\n",
    "        if len(line) != 0:\n",
    "            smi_list.append(line.split(\" \")[0])"
   ]
  },
  {
   "cell_type": "code",
   "execution_count": 4,
   "metadata": {
    "tags": []
   },
   "outputs": [
    {
     "name": "stdout",
     "output_type": "stream",
     "text": [
      "Number of molecules: 1543543\n"
     ]
    }
   ],
   "source": [
    "print(f\"Number of molecules: {len(smi_list)}\")"
   ]
  },
  {
   "cell_type": "markdown",
   "metadata": {},
   "source": [
    "## Extracting SMILES from KIDA\n",
    "\n",
    "Since our database contains mostly terrestrial/stable molecules, we need to augment this set with astronomically relevant molecules. KIDA is one of the biggest reaction networks used in astrochemistry, and is therefore a nice collection molecules that may or may not be found in space (at least of interest).\n",
    "\n",
    "To perform this, we'll scrape the KIDA website below."
   ]
  },
  {
   "cell_type": "code",
   "execution_count": 50,
   "metadata": {},
   "outputs": [],
   "source": [
    "import requests\n",
    "import datetime\n",
    "from bs4 import BeautifulSoup"
   ]
  },
  {
   "cell_type": "code",
   "execution_count": 51,
   "metadata": {},
   "outputs": [],
   "source": [
    "url = requests.get(\"http://kida.astrophy.u-bordeaux.fr/species.html\")"
   ]
  },
  {
   "cell_type": "code",
   "execution_count": 30,
   "metadata": {},
   "outputs": [
    {
     "name": "stdout",
     "output_type": "stream",
     "text": [
      "Last retrieved: Sun, 05 Jul 2020 20:26:13 GMT\n"
     ]
    }
   ],
   "source": [
    "print(f\"\"\"Last retrieved: {url.headers[\"Date\"]}\"\"\")"
   ]
  },
  {
   "cell_type": "code",
   "execution_count": 5,
   "metadata": {},
   "outputs": [],
   "source": [
    "RERUN = False"
   ]
  },
  {
   "cell_type": "code",
   "execution_count": 6,
   "metadata": {},
   "outputs": [],
   "source": [
    "if RERUN:\n",
    "    date = url.headers[\"Date\"]\n",
    "    # cut the date, replace spaces with underscores for naming\n",
    "    date = date[5:16].replace(\" \", \"_\")\n",
    "    # save the webpage for reference. If KIDA decides to go bottom up we\n",
    "    # will always have a copy of this data\n",
    "    with open(f\"../data/kida-site_{date}.html\", \"w+\") as write_file:\n",
    "        write_file.write(str(url.content))\n",
    "    soup = BeautifulSoup(url.content)\n",
    "    # the first and only table on the page corresponds to the molecules\n",
    "    molecule_table = soup.find_all(\"table\", \"table\")[0]"
   ]
  },
  {
   "cell_type": "code",
   "execution_count": 7,
   "metadata": {},
   "outputs": [],
   "source": [
    "if RERUN:\n",
    "    map_dict = dict()\n",
    "    for row in soup.find_all(\"tr\"):\n",
    "        # some InChI are missing, this sets a default value\n",
    "        inchi = None\n",
    "        for index, column in enumerate(row.find_all(\"td\")):\n",
    "            # loop over columns in each row, and grab the second and\n",
    "            # third columns which are formulae and InChI\n",
    "            if index == 1:\n",
    "                # strip twice because the first header is parsed funnily\n",
    "                name = column.text.strip().strip()\n",
    "            if index == 2:\n",
    "                inchi = column.text.strip()\n",
    "        map_dict[name] = inchi\n",
    "    # Just for reference, dump the KIDA mapping as a dataframe\n",
    "    kida_df = pd.DataFrame.from_dict(map_dict, orient=\"index\").reset_index()\n",
    "    kida_df.columns = [\"Formula\", \"InChI\"]\n",
    "    kida_df.to_csv(f\"../data/kida-molecules_{date}.csv\", index=False)\n",
    "else:\n",
    "    kida_df = pd.read_csv(\"../data/kida-molecules_05_Jul_2020.csv\")"
   ]
  },
  {
   "cell_type": "code",
   "execution_count": 14,
   "metadata": {},
   "outputs": [],
   "source": [
    "def inchi_to_smiles(inchi: str):\n",
    "    inchi = str(inchi)\n",
    "    if len(inchi) != 0:\n",
    "        mol = Chem.MolFromInchi(inchi, sanitize=False, removeHs=False)\n",
    "        if mol:\n",
    "            smiles = Chem.MolToSmiles(mol, canonical=True)\n",
    "            return smiles\n",
    "    else:\n",
    "        return \"\""
   ]
  },
  {
   "cell_type": "markdown",
   "metadata": {},
   "source": [
    "Now we convert all the InChI codes from KIDA into SMILES through RDKit. Initially I was most worried about this because KIDA has strange molecules, and as we see below RDKit has plenty to complain about. The attitude we're taking here is to ignore the ones that don't play by the rules, and we'll worry about them some other time."
   ]
  },
  {
   "cell_type": "code",
   "execution_count": 16,
   "metadata": {},
   "outputs": [
    {
     "name": "stderr",
     "output_type": "stream",
     "text": [
      "RDKit WARNING: [11:18:35] expect radical to be either 2 or 3 while getting \u0004. Ignore radical.\n",
      "RDKit WARNING: [11:18:35] expect radical to be either 2 or 3 while getting \u0004. Ignore radical.\n",
      "RDKit WARNING: [11:18:35] WARNING:  Problems/mismatches: Mobile-H( Charge(s): Do not match)\n",
      "RDKit WARNING: [11:18:35] WARNING:  Problems/mismatches: Mobile-H( Charge(s): Do not match)\n",
      "RDKit WARNING: [11:18:35] WARNING:  Problems/mismatches: Mobile-H( Charge(s): Do not match)\n",
      "RDKit WARNING: [11:18:35] WARNING:  Problems/mismatches: Mobile-H( Charge(s): Do not match)\n",
      "RDKit WARNING: [11:18:35] WARNING:  Problems/mismatches: Mobile-H( Charge(s): Do not match)\n",
      "RDKit WARNING: [11:18:35] WARNING:  Problems/mismatches: Mobile-H( Charge(s): Do not match)\n",
      "RDKit WARNING: [11:18:35] WARNING:  Problems/mismatches: Mobile-H( Charge(s): Do not match)\n",
      "RDKit WARNING: [11:18:35] WARNING:  Problems/mismatches: Mobile-H( Charge(s): Do not match)\n",
      "RDKit WARNING: [11:18:35] WARNING:  Problems/mismatches: Mobile-H( Charge(s): Do not match)\n",
      "RDKit WARNING: [11:18:35] WARNING:  Problems/mismatches: Mobile-H( Charge(s): Do not match)\n",
      "RDKit WARNING: [11:18:35] WARNING:  Problems/mismatches: Mobile-H( Hydrogens: Locations or number, Number; Charge(s): Do not match; Proton balance: Does not match)\n",
      "RDKit WARNING: [11:18:35] WARNING:  Problems/mismatches: Mobile-H( Charge(s): Do not match)\n",
      "RDKit WARNING: [11:18:35] WARNING:  Problems/mismatches: Mobile-H( Charge(s): Do not match)\n",
      "RDKit WARNING: [11:18:35] WARNING:  Problems/mismatches: Mobile-H( Charge(s): Do not match)\n",
      "RDKit WARNING: [11:18:35] WARNING:  Problems/mismatches: Mobile-H( Charge(s): Do not match)\n",
      "RDKit WARNING: [11:18:35] WARNING:  Problems/mismatches: Mobile-H( Charge(s): Do not match)\n",
      "RDKit WARNING: [11:18:35] WARNING:  Problems/mismatches: Mobile-H( Hydrogens: Locations or number, Number; Charge(s): Do not match; Proton balance: Does not match)\n",
      "RDKit WARNING: [11:18:35] WARNING:  Problems/mismatches: Mobile-H( Charge(s): Do not match)\n",
      "RDKit WARNING: [11:18:35] expect radical to be either 2 or 3 while getting \u0004. Ignore radical.\n",
      "RDKit WARNING: [11:18:35] expect radical to be either 2 or 3 while getting \u0004. Ignore radical.\n",
      "RDKit WARNING: [11:18:35] expect radical to be either 2 or 3 while getting \u0004. Ignore radical.\n",
      "RDKit WARNING: [11:18:35] expect radical to be either 2 or 3 while getting \u0004. Ignore radical.\n"
     ]
    }
   ],
   "source": [
    "# This applies our filtering function we defined above\n",
    "kida_df[\"SMILES\"] = kida_df[\"InChI\"].apply(inchi_to_smiles)"
   ]
  },
  {
   "cell_type": "code",
   "execution_count": 35,
   "metadata": {},
   "outputs": [],
   "source": [
    "# Extract only those with SMILES strings\n",
    "kida_smiles = kida_df.loc[(kida_df[\"SMILES\"].str.len() != 0.)].dropna()"
   ]
  },
  {
   "cell_type": "code",
   "execution_count": 37,
   "metadata": {},
   "outputs": [],
   "source": [
    "# append all the KIDA entries to our full list\n",
    "smi_list.extend(kida_smiles[\"SMILES\"].to_list())"
   ]
  },
  {
   "cell_type": "code",
   "execution_count": 38,
   "metadata": {},
   "outputs": [
    {
     "name": "stdout",
     "output_type": "stream",
     "text": [
      "Number of molecules with KIDA: 1544121\n"
     ]
    }
   ],
   "source": [
    "print(f\"Number of molecules with KIDA: {len(smi_list)}\")"
   ]
  },
  {
   "cell_type": "markdown",
   "metadata": {},
   "source": [
    "## Adding extra SMILES from Jacqueline's analysis\n",
    "\n",
    "Turns out we're missing some molecules (no surprise) that are known in TMC-1, but not inlcuded in our list. The code below will take data directly from the Google Sheets Jacqueline's set up."
   ]
  },
  {
   "cell_type": "code",
   "execution_count": 68,
   "metadata": {},
   "outputs": [
    {
     "name": "stdout",
     "output_type": "stream",
     "text": [
      "Collecting xlrd\n",
      "  Downloading xlrd-1.2.0-py2.py3-none-any.whl (103 kB)\n",
      "\u001b[K     |████████████████████████████████| 103 kB 3.7 MB/s eta 0:00:01\n",
      "\u001b[?25hInstalling collected packages: xlrd\n",
      "Successfully installed xlrd-1.2.0\n"
     ]
    }
   ],
   "source": [
    "!pip install xlrd"
   ]
  },
  {
   "cell_type": "code",
   "execution_count": 81,
   "metadata": {},
   "outputs": [],
   "source": [
    "jac_df = pd.read_excel(\"../data/ChemicalCollection3.xlsx\")\n",
    "jac_df2 = pd.read_excel(\"../data/ChemicalCollection4.xlsx\")"
   ]
  },
  {
   "cell_type": "code",
   "execution_count": 84,
   "metadata": {},
   "outputs": [],
   "source": [
    "combined_jac = pd.concat([jac_df, jac_df2])"
   ]
  },
  {
   "cell_type": "code",
   "execution_count": 85,
   "metadata": {},
   "outputs": [],
   "source": [
    "# Missing molecules\n",
    "missing = combined_jac.loc[~combined_jac[\"Notation\"].isin(smi_list)]\n",
    "jac_missing = missing[\"Notation\"].to_list()"
   ]
  },
  {
   "cell_type": "markdown",
   "metadata": {},
   "source": [
    "## Microscopic inspection\n",
    "\n",
    "In this section, we're going to put certain aspects of the dataset under the microscope: for example, we want to check that certain molecules are contained in the set. Here, we'll be using our chemical intuition; the idea is to pick out a few molecules, and check if: (a) they are contained in our list, and (b) what their most similar molecules are."
   ]
  },
  {
   "cell_type": "code",
   "execution_count": 87,
   "metadata": {},
   "outputs": [],
   "source": [
    "mol_df = pd.DataFrame(data=smi_list)\n",
    "mol_df.columns = [\"Raw\"]"
   ]
  },
  {
   "cell_type": "code",
   "execution_count": 88,
   "metadata": {},
   "outputs": [],
   "source": [
    "def canonicize_smi(smi: str):\n",
    "    \"\"\"\n",
    "    Function to convert any SMILES string into its canonical counterpart.\n",
    "    This ensures that all comparisons made subsequently are made with the\n",
    "    same SMILES representation, if it exists.\n",
    "    \"\"\"\n",
    "    return Chem.MolToSmiles(Chem.MolFromSmiles(smi, sanitize=False), canonical=True)"
   ]
  },
  {
   "cell_type": "code",
   "execution_count": 89,
   "metadata": {},
   "outputs": [],
   "source": [
    "checklist = [\n",
    "    \"CC=O\",             # acetaldehyde\n",
    "    \"c1ccccc1\",         # benzene\n",
    "    \"c1ccc(cc1)C#N\",    # benzonitrile\n",
    "    \"N#CC=C\",           # vinyl cyanide\n",
    "    \"CC#N\",             # methyl cyanide\n",
    "    \"C#CC#CC#N\",\n",
    "    \"C#N\",\n",
    "    \"C#CC#CC#CC#N\",\n",
    "    \"C#CC#CC#CC#CC#N\",\n",
    "]\n",
    "\n",
    "checklist = [canonicize_smi(smi) for smi in checklist]"
   ]
  },
  {
   "cell_type": "code",
   "execution_count": 90,
   "metadata": {},
   "outputs": [],
   "source": [
    "mol_df.loc[:, \"Check\"] = mol_df[\"Raw\"].isin(checklist)"
   ]
  },
  {
   "cell_type": "code",
   "execution_count": 91,
   "metadata": {},
   "outputs": [
    {
     "data": {
      "text/html": [
       "<div>\n",
       "<style scoped>\n",
       "    .dataframe tbody tr th:only-of-type {\n",
       "        vertical-align: middle;\n",
       "    }\n",
       "\n",
       "    .dataframe tbody tr th {\n",
       "        vertical-align: top;\n",
       "    }\n",
       "\n",
       "    .dataframe thead th {\n",
       "        text-align: right;\n",
       "    }\n",
       "</style>\n",
       "<table border=\"1\" class=\"dataframe\">\n",
       "  <thead>\n",
       "    <tr style=\"text-align: right;\">\n",
       "      <th></th>\n",
       "      <th>Raw</th>\n",
       "      <th>Check</th>\n",
       "    </tr>\n",
       "  </thead>\n",
       "  <tbody>\n",
       "    <tr>\n",
       "      <th>4</th>\n",
       "      <td>C#N</td>\n",
       "      <td>True</td>\n",
       "    </tr>\n",
       "    <tr>\n",
       "      <th>9</th>\n",
       "      <td>CC#N</td>\n",
       "      <td>True</td>\n",
       "    </tr>\n",
       "    <tr>\n",
       "      <th>10</th>\n",
       "      <td>CC=O</td>\n",
       "      <td>True</td>\n",
       "    </tr>\n",
       "    <tr>\n",
       "      <th>484</th>\n",
       "      <td>C#CC#CC#N</td>\n",
       "      <td>True</td>\n",
       "    </tr>\n",
       "    <tr>\n",
       "      <th>14562</th>\n",
       "      <td>C#CC#CC#CC#N</td>\n",
       "      <td>True</td>\n",
       "    </tr>\n",
       "    <tr>\n",
       "      <th>571628</th>\n",
       "      <td>N#Cc1ccccc1</td>\n",
       "      <td>True</td>\n",
       "    </tr>\n",
       "    <tr>\n",
       "      <th>585302</th>\n",
       "      <td>c1ccccc1</td>\n",
       "      <td>True</td>\n",
       "    </tr>\n",
       "    <tr>\n",
       "      <th>1543653</th>\n",
       "      <td>CC#N</td>\n",
       "      <td>True</td>\n",
       "    </tr>\n",
       "    <tr>\n",
       "      <th>1543689</th>\n",
       "      <td>CC=O</td>\n",
       "      <td>True</td>\n",
       "    </tr>\n",
       "    <tr>\n",
       "      <th>1543694</th>\n",
       "      <td>C=CC#N</td>\n",
       "      <td>True</td>\n",
       "    </tr>\n",
       "    <tr>\n",
       "      <th>1543728</th>\n",
       "      <td>C#CC#CC#N</td>\n",
       "      <td>True</td>\n",
       "    </tr>\n",
       "    <tr>\n",
       "      <th>1543879</th>\n",
       "      <td>C#N</td>\n",
       "      <td>True</td>\n",
       "    </tr>\n",
       "    <tr>\n",
       "      <th>1543963</th>\n",
       "      <td>C#CC#CC#N</td>\n",
       "      <td>True</td>\n",
       "    </tr>\n",
       "    <tr>\n",
       "      <th>1543969</th>\n",
       "      <td>C#CC#CC#CC#N</td>\n",
       "      <td>True</td>\n",
       "    </tr>\n",
       "    <tr>\n",
       "      <th>1543972</th>\n",
       "      <td>C#CC#CC#CC#CC#N</td>\n",
       "      <td>True</td>\n",
       "    </tr>\n",
       "  </tbody>\n",
       "</table>\n",
       "</div>"
      ],
      "text/plain": [
       "                     Raw  Check\n",
       "4                    C#N   True\n",
       "9                   CC#N   True\n",
       "10                  CC=O   True\n",
       "484            C#CC#CC#N   True\n",
       "14562       C#CC#CC#CC#N   True\n",
       "571628       N#Cc1ccccc1   True\n",
       "585302          c1ccccc1   True\n",
       "1543653             CC#N   True\n",
       "1543689             CC=O   True\n",
       "1543694           C=CC#N   True\n",
       "1543728        C#CC#CC#N   True\n",
       "1543879              C#N   True\n",
       "1543963        C#CC#CC#N   True\n",
       "1543969     C#CC#CC#CC#N   True\n",
       "1543972  C#CC#CC#CC#CC#N   True"
      ]
     },
     "execution_count": 91,
     "metadata": {},
     "output_type": "execute_result"
    }
   ],
   "source": [
    "mol_df.loc[mol_df[\"Check\"] == True]"
   ]
  },
  {
   "cell_type": "code",
   "execution_count": 92,
   "metadata": {},
   "outputs": [],
   "source": [
    "molecular_weights = list()\n",
    "for smi in smi_list:\n",
    "    mol = Chem.MolFromSmiles(smi, sanitize=False)\n",
    "    mol.UpdatePropertyCache(strict=False)\n",
    "    molecular_weights.append(Descriptors.ExactMolWt(mol))"
   ]
  },
  {
   "cell_type": "markdown",
   "metadata": {},
   "source": [
    "## Calculate descriptors"
   ]
  },
  {
   "cell_type": "code",
   "execution_count": 93,
   "metadata": {},
   "outputs": [],
   "source": [
    "mol_df[\"MW\"] = molecular_weights"
   ]
  },
  {
   "cell_type": "markdown",
   "metadata": {},
   "source": [
    "## Drop duplicate entries, and save the data to disk\n",
    "\n",
    "Our dataset actually contains a lot of duplicate entries. This step removes them, which would otherwise just waste our computation time."
   ]
  },
  {
   "cell_type": "code",
   "execution_count": 94,
   "metadata": {},
   "outputs": [],
   "source": [
    "mol_df.drop_duplicates(\"Raw\", inplace=True)"
   ]
  },
  {
   "cell_type": "code",
   "execution_count": 95,
   "metadata": {},
   "outputs": [],
   "source": [
    "mol_df.to_pickle(\"../data/combined_smiles.pkl.bz2\")"
   ]
  },
  {
   "cell_type": "markdown",
   "metadata": {},
   "source": [
    "## Tasks for data exploration\n",
    "\n",
    "### Distribution of molecular weight\n",
    "\n",
    "Plot a histogram of the molecular weight in our dataset."
   ]
  },
  {
   "cell_type": "code",
   "execution_count": null,
   "metadata": {},
   "outputs": [],
   "source": []
  },
  {
   "cell_type": "markdown",
   "metadata": {},
   "source": [
    "### Counting functional group examples"
   ]
  },
  {
   "cell_type": "code",
   "execution_count": 96,
   "metadata": {},
   "outputs": [
    {
     "data": {
      "text/plain": [
       "17782"
      ]
     },
     "execution_count": 96,
     "metadata": {},
     "output_type": "execute_result"
    }
   ],
   "source": [
    "# For example, number of carbonyls\n",
    "mol_df[\"Raw\"].str.contains(\"C=O\").sum()"
   ]
  },
  {
   "cell_type": "markdown",
   "metadata": {},
   "source": [
    "## Dumping the SMILES data for mol2vec use\n",
    "\n",
    "This only takes the SMILES column, and dumps it into a list of SMILES formatted and ready for `mol2vec` usage. Every SMILES is separated by a new line, and we don't include a header."
   ]
  },
  {
   "cell_type": "code",
   "execution_count": 97,
   "metadata": {},
   "outputs": [],
   "source": [
    "mol_df[\"Raw\"].to_csv(\"./collected_smiles.smi\", sep=\"\\n\", index=False, header=None)"
   ]
  },
  {
   "cell_type": "code",
   "execution_count": null,
   "metadata": {},
   "outputs": [],
   "source": []
  }
 ],
 "metadata": {
  "kernelspec": {
   "display_name": "Python 3.6.10 64-bit ('rdkit': conda)",
   "language": "python",
   "name": "python361064bitrdkitconda2231f7cd07614fa9b5f8257698e6a5f8"
  },
  "language_info": {
   "codemirror_mode": {
    "name": "ipython",
    "version": 3
   },
   "file_extension": ".py",
   "mimetype": "text/x-python",
   "name": "python",
   "nbconvert_exporter": "python",
   "pygments_lexer": "ipython3",
   "version": "3.6.10"
  },
  "widgets": {
   "application/vnd.jupyter.widget-state+json": {
    "state": {},
    "version_major": 2,
    "version_minor": 0
   }
  }
 },
 "nbformat": 4,
 "nbformat_minor": 4
}
