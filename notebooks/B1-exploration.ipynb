{
 "cells": [
  {
   "cell_type": "markdown",
   "metadata": {},
   "source": [
    "# Dataset Cleaning and Exploration\n",
    "\n",
    "To prepare for our ultimate task of using molecular embeddings to predict abundances and detectability, we need to put our dataset into working order. This is typically referred to as \"cleaning\", where we're making sure that the data will be valid (free of missing data, for example) and duplicate entries are removed. We will also need to inspect the data to make sure that entries we expect to be there are present, as well as observe some general trends where we can. \n",
    "\n",
    "Since we're looking at such a large dataset, we need to be able to inspect it from a microscopic and a macroscopic level. Combining both perspectives gives you an overview of what the dataset looks like, and in turn may give you insight into why/how a machine learning model behaves the way it does.\n",
    "\n",
    "The first part of this notebook will be combining the three datasets: QM9, ZINC15, and KIDA. The latter is actually obtained by scraping their website, i.e. extracting the relevant information from tables in websites. "
   ]
  },
  {
   "cell_type": "code",
   "execution_count": 119,
   "metadata": {
    "tags": []
   },
   "outputs": [],
   "source": [
    "from pathlib import Path\n",
    "from tempfile import NamedTemporaryFile\n",
    "import fileinput\n",
    "import os\n",
    "\n",
    "import numpy as np\n",
    "import pandas as pd\n",
    "from mol2vec import features\n",
    "from rdkit import Chem\n",
    "from rdkit.Chem.Draw import IPythonConsole\n",
    "from rdkit.Chem import Descriptors\n",
    "from gensim.models import word2vec"
   ]
  },
  {
   "cell_type": "markdown",
   "metadata": {},
   "source": [
    "## Loading and combining SMILES from the two datasets"
   ]
  },
  {
   "cell_type": "code",
   "execution_count": 96,
   "metadata": {},
   "outputs": [],
   "source": [
    "qm9 = pd.read_csv(\"../data/gdb9_prop_smiles.csv.tar.gz\")\n",
    "smi_list = qm9[\"smiles\"].dropna().to_list()"
   ]
  },
  {
   "cell_type": "code",
   "execution_count": 97,
   "metadata": {
    "tags": []
   },
   "outputs": [],
   "source": [
    "for smi_file in Path(\"../data/\").rglob(\"*/*.smi\"):\n",
    "    temp = smi_file.read_text().split(\"\\n\")[1:]\n",
    "    for line in temp:\n",
    "        if len(line) != 0:\n",
    "            smi_list.append(line.split(\" \")[0])"
   ]
  },
  {
   "cell_type": "code",
   "execution_count": 98,
   "metadata": {
    "tags": []
   },
   "outputs": [
    {
     "name": "stdout",
     "output_type": "stream",
     "text": [
      "Number of molecules: 1543543\n"
     ]
    }
   ],
   "source": [
    "print(f\"Number of molecules: {len(smi_list)}\")"
   ]
  },
  {
   "cell_type": "markdown",
   "metadata": {},
   "source": [
    "## Extracting SMILES from KIDA\n",
    "\n",
    "Since our database contains mostly terrestrial/stable molecules, we need to augment this set with astronomically relevant molecules. KIDA is one of the biggest reaction networks used in astrochemistry, and is therefore a nice collection molecules that may or may not be found in space (at least of interest).\n",
    "\n",
    "To perform this, we'll scrape the KIDA website below."
   ]
  },
  {
   "cell_type": "code",
   "execution_count": 66,
   "metadata": {},
   "outputs": [],
   "source": [
    "import requests\n",
    "import datetime\n",
    "from bs4 import BeautifulSoup"
   ]
  },
  {
   "cell_type": "code",
   "execution_count": 25,
   "metadata": {},
   "outputs": [],
   "source": [
    "url = requests.get(\"http://kida.astrophy.u-bordeaux.fr/species.html\")"
   ]
  },
  {
   "cell_type": "code",
   "execution_count": 30,
   "metadata": {},
   "outputs": [
    {
     "name": "stdout",
     "output_type": "stream",
     "text": [
      "Last retrieved: Sun, 05 Jul 2020 20:26:13 GMT\n"
     ]
    }
   ],
   "source": [
    "print(f\"\"\"Last retrieved: {url.headers[\"Date\"]}\"\"\")"
   ]
  },
  {
   "cell_type": "code",
   "execution_count": 101,
   "metadata": {},
   "outputs": [],
   "source": [
    "date = url.headers[\"Date\"]\n",
    "# cut the date, replace spaces with underscores for naming\n",
    "date = date[5:16].replace(\" \", \"_\")\n",
    "# save the webpage for reference. If KIDA decides to go bottom up we\n",
    "# will always have a copy of this data\n",
    "with open(f\"../data/kida-site_{date}.html\", \"w+\") as write_file:\n",
    "    write_file.write(str(url.content))"
   ]
  },
  {
   "cell_type": "code",
   "execution_count": 33,
   "metadata": {},
   "outputs": [],
   "source": [
    "soup = BeautifulSoup(url.content)"
   ]
  },
  {
   "cell_type": "code",
   "execution_count": 37,
   "metadata": {},
   "outputs": [],
   "source": [
    "# the first and only table on the page corresponds to the molecules\n",
    "molecule_table = soup.find_all(\"table\", \"table\")[0]"
   ]
  },
  {
   "cell_type": "code",
   "execution_count": 54,
   "metadata": {},
   "outputs": [],
   "source": [
    "map_dict = dict()\n",
    "for row in soup.find_all(\"tr\"):\n",
    "    # some InChI are missing, this sets a default value\n",
    "    inchi = None\n",
    "    for index, column in enumerate(row.find_all(\"td\")):\n",
    "        # loop over columns in each row, and grab the second and\n",
    "        # third columns which are formulae and InChI\n",
    "        if index == 1:\n",
    "            # strip twice because the first header is parsed funnily\n",
    "            name = column.text.strip().strip()\n",
    "        if index == 2:\n",
    "            inchi = column.text.strip()\n",
    "    map_dict[name] = inchi"
   ]
  },
  {
   "cell_type": "code",
   "execution_count": 63,
   "metadata": {},
   "outputs": [],
   "source": [
    "# Just for reference, dump the KIDA mapping as a dataframe\n",
    "kida_df = pd.DataFrame.from_dict(map_dict, orient=\"index\").reset_index()\n",
    "kida_df.columns = [\"Formula\", \"InChI\"]"
   ]
  },
  {
   "cell_type": "code",
   "execution_count": 76,
   "metadata": {},
   "outputs": [],
   "source": [
    "kida_df.to_csv(f\"../data/kida-molecules_{date}.csv\", index=False)"
   ]
  },
  {
   "cell_type": "markdown",
   "metadata": {},
   "source": [
    "Now we convert all the InChI codes from KIDA into SMILES through RDKit. Initially I was most worried about this because KIDA has strange molecules, and as we see below RDKit has plenty to complain about. The attitude we're taking here is to ignore the ones that don't play by the rules, and we'll worry about them some other time."
   ]
  },
  {
   "cell_type": "code",
   "execution_count": 93,
   "metadata": {},
   "outputs": [
    {
     "name": "stderr",
     "output_type": "stream",
     "text": [
      "RDKit WARNING: [16:46:31] WARNING:  Problems/mismatches: Mobile-H( Charge(s): Do not match)\n",
      "RDKit WARNING: [16:46:31] WARNING:  Problems/mismatches: Mobile-H( Charge(s): Do not match)\n",
      "RDKit WARNING: [16:46:31] WARNING:  Problems/mismatches: Mobile-H( Charge(s): Do not match)\n",
      "RDKit WARNING: [16:46:31] WARNING:  Problems/mismatches: Mobile-H( Charge(s): Do not match)\n",
      "RDKit WARNING: [16:46:35] expect radical to be either 2 or 3 while getting \u0004. Ignore radical.\n",
      "RDKit WARNING: [16:46:35] expect radical to be either 2 or 3 while getting \u0004. Ignore radical.\n",
      "RDKit WARNING: [16:46:35] WARNING:  Problems/mismatches: Mobile-H( Charge(s): Do not match)\n",
      "RDKit WARNING: [16:46:35] WARNING:  Problems/mismatches: Mobile-H( Charge(s): Do not match)\n",
      "RDKit WARNING: [16:46:35] WARNING:  Problems/mismatches: Mobile-H( Charge(s): Do not match)\n",
      "RDKit WARNING: [16:46:35] WARNING:  Problems/mismatches: Mobile-H( Charge(s): Do not match)\n",
      "RDKit WARNING: [16:46:35] WARNING:  Problems/mismatches: Mobile-H( Charge(s): Do not match)\n",
      "RDKit WARNING: [16:46:35] WARNING:  Problems/mismatches: Mobile-H( Charge(s): Do not match)\n",
      "RDKit WARNING: [16:46:35] WARNING:  Problems/mismatches: Mobile-H( Charge(s): Do not match)\n",
      "RDKit WARNING: [16:46:35] WARNING:  Problems/mismatches: Mobile-H( Charge(s): Do not match)\n",
      "RDKit WARNING: [16:46:35] WARNING:  Problems/mismatches: Mobile-H( Charge(s): Do not match)\n",
      "RDKit WARNING: [16:46:35] WARNING:  Problems/mismatches: Mobile-H( Charge(s): Do not match)\n",
      "RDKit WARNING: [16:46:35] WARNING:  Problems/mismatches: Mobile-H( Hydrogens: Locations or number, Number; Charge(s): Do not match; Proton balance: Does not match)\n",
      "RDKit WARNING: [16:46:35] WARNING:  Problems/mismatches: Mobile-H( Charge(s): Do not match)\n",
      "RDKit WARNING: [16:46:35] WARNING:  Problems/mismatches: Mobile-H( Charge(s): Do not match)\n",
      "RDKit WARNING: [16:46:35] WARNING:  Problems/mismatches: Mobile-H( Charge(s): Do not match)\n",
      "RDKit WARNING: [16:46:35] WARNING:  Problems/mismatches: Mobile-H( Charge(s): Do not match)\n",
      "RDKit WARNING: [16:46:35] WARNING:  Problems/mismatches: Mobile-H( Charge(s): Do not match)\n",
      "RDKit WARNING: [16:46:35] WARNING:  Problems/mismatches: Mobile-H( Hydrogens: Locations or number, Number; Charge(s): Do not match; Proton balance: Does not match)\n",
      "RDKit WARNING: [16:46:35] WARNING:  Problems/mismatches: Mobile-H( Charge(s): Do not match)\n",
      "RDKit WARNING: [16:46:35] expect radical to be either 2 or 3 while getting \u0004. Ignore radical.\n",
      "RDKit WARNING: [16:46:35] expect radical to be either 2 or 3 while getting \u0004. Ignore radical.\n",
      "RDKit WARNING: [16:46:35] expect radical to be either 2 or 3 while getting \u0004. Ignore radical.\n",
      "RDKit WARNING: [16:46:35] expect radical to be either 2 or 3 while getting \u0004. Ignore radical.\n"
     ]
    }
   ],
   "source": [
    "ignored = list()\n",
    "kida_smiles = dict()\n",
    "for key, value in map_dict.items():\n",
    "    # ignore missing InChI\n",
    "    if len(value) != 0:\n",
    "        mol = Chem.MolFromInchi(value, sanitize=False, removeHs=False)\n",
    "        if mol:\n",
    "            kida_smiles[key] = Chem.MolToSmiles(mol, canonical=True)\n",
    "    else:\n",
    "        ignored.append(key)"
   ]
  },
  {
   "cell_type": "code",
   "execution_count": 102,
   "metadata": {},
   "outputs": [],
   "source": [
    "# append all the KIDA entries to our full list\n",
    "smi_list.extend(list(kida_smiles.values()))"
   ]
  },
  {
   "cell_type": "code",
   "execution_count": 104,
   "metadata": {},
   "outputs": [
    {
     "name": "stdout",
     "output_type": "stream",
     "text": [
      "Number of molecules with KIDA: 1544055\n"
     ]
    }
   ],
   "source": [
    "print(f\"Number of molecules with KIDA: {len(smi_list)}\")"
   ]
  },
  {
   "cell_type": "markdown",
   "metadata": {},
   "source": [
    "## Microscopic inspection\n",
    "\n",
    "In this section, we're going to put certain aspects of the dataset under the microscope: for example, we want to check that certain molecules are contained in the set. Here, we'll be using our chemical intuition; the idea is to pick out a few molecules, and check if: (a) they are contained in our list, and (b) what their most similar molecules are."
   ]
  },
  {
   "cell_type": "code",
   "execution_count": 105,
   "metadata": {},
   "outputs": [],
   "source": [
    "mol_df = pd.DataFrame(data=smi_list)\n",
    "mol_df.columns = [\"Raw\"]"
   ]
  },
  {
   "cell_type": "code",
   "execution_count": 106,
   "metadata": {},
   "outputs": [],
   "source": [
    "def canonicize_smi(smi: str):\n",
    "    \"\"\"\n",
    "    Function to convert any SMILES string into its canonical counterpart.\n",
    "    This ensures that all comparisons made subsequently are made with the\n",
    "    same SMILES representation, if it exists.\n",
    "    \"\"\"\n",
    "    return Chem.MolToSmiles(Chem.MolFromSmiles(smi, sanitize=False), canonical=True)"
   ]
  },
  {
   "cell_type": "code",
   "execution_count": 112,
   "metadata": {},
   "outputs": [],
   "source": [
    "checklist = [\n",
    "    \"CC=O\",             # acetaldehyde\n",
    "    \"c1ccccc1\",         # benzene\n",
    "    \"c1ccc(cc1)C#N\",    # benzonitrile\n",
    "    \"N#CC=C\",           # vinyl cyanide\n",
    "    \"CC#N\",             # methyl cyanide\n",
    "    \"C#CC#CC#N\",\n",
    "    \"C#N\",\n",
    "    \"C#CC#CC#CC#N\",\n",
    "    \"C#CC#CC#CC#CC#N\",\n",
    "]\n",
    "\n",
    "checklist = [canonicize_smi(smi) for smi in checklist]"
   ]
  },
  {
   "cell_type": "code",
   "execution_count": 108,
   "metadata": {},
   "outputs": [],
   "source": [
    "mol_df.loc[:, \"Check\"] = mol_df[\"Raw\"].isin(checklist)"
   ]
  },
  {
   "cell_type": "code",
   "execution_count": 109,
   "metadata": {},
   "outputs": [
    {
     "data": {
      "text/html": [
       "<div>\n",
       "<style scoped>\n",
       "    .dataframe tbody tr th:only-of-type {\n",
       "        vertical-align: middle;\n",
       "    }\n",
       "\n",
       "    .dataframe tbody tr th {\n",
       "        vertical-align: top;\n",
       "    }\n",
       "\n",
       "    .dataframe thead th {\n",
       "        text-align: right;\n",
       "    }\n",
       "</style>\n",
       "<table border=\"1\" class=\"dataframe\">\n",
       "  <thead>\n",
       "    <tr style=\"text-align: right;\">\n",
       "      <th></th>\n",
       "      <th>Raw</th>\n",
       "      <th>Check</th>\n",
       "    </tr>\n",
       "  </thead>\n",
       "  <tbody>\n",
       "    <tr>\n",
       "      <th>4</th>\n",
       "      <td>C#N</td>\n",
       "      <td>True</td>\n",
       "    </tr>\n",
       "    <tr>\n",
       "      <th>9</th>\n",
       "      <td>CC#N</td>\n",
       "      <td>True</td>\n",
       "    </tr>\n",
       "    <tr>\n",
       "      <th>10</th>\n",
       "      <td>CC=O</td>\n",
       "      <td>True</td>\n",
       "    </tr>\n",
       "    <tr>\n",
       "      <th>484</th>\n",
       "      <td>C#CC#CC#N</td>\n",
       "      <td>True</td>\n",
       "    </tr>\n",
       "    <tr>\n",
       "      <th>14562</th>\n",
       "      <td>C#CC#CC#CC#N</td>\n",
       "      <td>True</td>\n",
       "    </tr>\n",
       "    <tr>\n",
       "      <th>571628</th>\n",
       "      <td>N#Cc1ccccc1</td>\n",
       "      <td>True</td>\n",
       "    </tr>\n",
       "    <tr>\n",
       "      <th>585302</th>\n",
       "      <td>c1ccccc1</td>\n",
       "      <td>True</td>\n",
       "    </tr>\n",
       "    <tr>\n",
       "      <th>1543684</th>\n",
       "      <td>C=CC#N</td>\n",
       "      <td>True</td>\n",
       "    </tr>\n",
       "    <tr>\n",
       "      <th>1543920</th>\n",
       "      <td>C#CC#CC#CC#CC#N</td>\n",
       "      <td>True</td>\n",
       "    </tr>\n",
       "  </tbody>\n",
       "</table>\n",
       "</div>"
      ],
      "text/plain": [
       "                     Raw  Check\n",
       "4                    C#N   True\n",
       "9                   CC#N   True\n",
       "10                  CC=O   True\n",
       "484            C#CC#CC#N   True\n",
       "14562       C#CC#CC#CC#N   True\n",
       "571628       N#Cc1ccccc1   True\n",
       "585302          c1ccccc1   True\n",
       "1543684           C=CC#N   True\n",
       "1543920  C#CC#CC#CC#CC#N   True"
      ]
     },
     "execution_count": 109,
     "metadata": {},
     "output_type": "execute_result"
    }
   ],
   "source": [
    "mol_df.loc[mol_df[\"Check\"] == True]"
   ]
  },
  {
   "cell_type": "code",
   "execution_count": 126,
   "metadata": {},
   "outputs": [],
   "source": [
    "molecular_weights = list()\n",
    "for smi in smi_list:\n",
    "    mol = Chem.MolFromSmiles(smi, sanitize=False)\n",
    "    mol.UpdatePropertyCache(strict=False)\n",
    "    molecular_weights.append(Descriptors.ExactMolWt(mol))"
   ]
  },
  {
   "cell_type": "markdown",
   "metadata": {},
   "source": [
    "## Calculate descriptors"
   ]
  },
  {
   "cell_type": "code",
   "execution_count": 128,
   "metadata": {},
   "outputs": [],
   "source": [
    "mol_df[\"MW\"] = molecular_weights"
   ]
  },
  {
   "cell_type": "markdown",
   "metadata": {},
   "source": [
    "## Drop duplicate entries, and save the data to disk\n",
    "\n",
    "Our dataset actually contains a lot of duplicate entries. This step removes them, which would otherwise just waste our computation time."
   ]
  },
  {
   "cell_type": "code",
   "execution_count": 136,
   "metadata": {},
   "outputs": [],
   "source": [
    "mol_df.drop_duplicates(\"Raw\", inplace=True)"
   ]
  },
  {
   "cell_type": "code",
   "execution_count": 141,
   "metadata": {},
   "outputs": [],
   "source": [
    "mol_df.to_pickle(\"../data/combined_smiles.pkl.bz2\")"
   ]
  },
  {
   "cell_type": "markdown",
   "metadata": {},
   "source": [
    "## Tasks for data exploration\n",
    "\n",
    "### Distribution of molecular weight\n",
    "\n",
    "Plot a histogram of the molecular weight in our dataset."
   ]
  },
  {
   "cell_type": "code",
   "execution_count": null,
   "metadata": {},
   "outputs": [],
   "source": []
  },
  {
   "cell_type": "markdown",
   "metadata": {},
   "source": [
    "### Counting functional group examples"
   ]
  },
  {
   "cell_type": "code",
   "execution_count": 147,
   "metadata": {},
   "outputs": [
    {
     "data": {
      "text/plain": [
       "17782"
      ]
     },
     "execution_count": 147,
     "metadata": {},
     "output_type": "execute_result"
    }
   ],
   "source": [
    "# For example, number of carbonyls\n",
    "mol_df[\"Raw\"].str.contains(\"C=O\").sum()"
   ]
  },
  {
   "cell_type": "markdown",
   "metadata": {},
   "source": [
    "## Dumping the SMILES data for mol2vec use\n",
    "\n",
    "This only takes the SMILES column, and dumps it into a list of SMILES formatted and ready for `mol2vec` usage. Every SMILES is separated by a new line, and we don't include a header."
   ]
  },
  {
   "cell_type": "code",
   "execution_count": 154,
   "metadata": {},
   "outputs": [],
   "source": [
    "mol_df[\"Raw\"].to_csv(\"./collected_smiles.smi\", sep=\"\\n\", index=False, header=None)"
   ]
  },
  {
   "cell_type": "code",
   "execution_count": null,
   "metadata": {},
   "outputs": [],
   "source": []
  }
 ],
 "metadata": {
  "kernelspec": {
   "display_name": "Python 3.6.10 64-bit ('rdkit': conda)",
   "language": "python",
   "name": "python361064bitrdkitconda2231f7cd07614fa9b5f8257698e6a5f8"
  },
  "language_info": {
   "codemirror_mode": {
    "name": "ipython",
    "version": 3
   },
   "file_extension": ".py",
   "mimetype": "text/x-python",
   "name": "python",
   "nbconvert_exporter": "python",
   "pygments_lexer": "ipython3",
   "version": "3.6.10"
  }
 },
 "nbformat": 4,
 "nbformat_minor": 4
}
