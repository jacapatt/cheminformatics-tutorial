{
 "cells": [
  {
   "cell_type": "code",
   "execution_count": 30,
   "metadata": {
    "tags": []
   },
   "outputs": [],
   "source": [
    "from pathlib import Path\n",
    "from tempfile import NamedTemporaryFile\n",
    "import os\n",
    "\n",
    "import numba\n",
    "import numpy as np\n",
    "from mol2vec import features\n",
    "from rdkit import Chem\n",
    "from rdkit.Chem.Draw import IPythonConsole\n",
    "from gensim.models import word2vec"
   ]
  },
  {
   "cell_type": "code",
   "execution_count": 2,
   "metadata": {},
   "outputs": [],
   "source": [
    "model = word2vec.Word2Vec.load(\"mol2vec_model.pkl\")"
   ]
  },
  {
   "cell_type": "code",
   "execution_count": 4,
   "metadata": {
    "tags": []
   },
   "outputs": [
    {
     "output_type": "stream",
     "name": "stdout",
     "text": "7985\n"
    }
   ],
   "source": [
    "print(len(model.wv.vocab))"
   ]
  },
  {
   "cell_type": "code",
   "execution_count": 45,
   "metadata": {},
   "outputs": [],
   "source": [
    "# Generate some small molecules for comparison and\n",
    "# sanity check!\n",
    "\n",
    "benzene = Chem.MolFromSmiles(\"c1ccccc1\")\n",
    "acetaldehyde = Chem.MolFromSmiles(\"CC=O\")\n",
    "benzonitrile = Chem.MolFromSmiles(\"C1=CC=C(C=C1)C#N\")\n",
    "phenol = Chem.MolFromSmiles(\"Oc1ccccc1\")\n",
    "hc5n = Chem.MolFromSmiles(\"C#CC#CC#N\")\n",
    "\n",
    "molecules = [benzene, acetaldehyde, benzonitrile, phenol, hc5n]"
   ]
  },
  {
   "cell_type": "markdown",
   "metadata": {},
   "source": [
    "We now convert the `Mol` objects into \"sentences\" to be processed by our `mol2vec` model."
   ]
  },
  {
   "cell_type": "code",
   "execution_count": 46,
   "metadata": {},
   "outputs": [],
   "source": [
    "# Translate molecules\n",
    "sentences = [features.mol2alt_sentence(mol, 1) for mol in molecules]\n",
    "\n",
    "# Use our trained model to generate vectors for every sentence\n",
    "vectors = features.sentences2vec(sentences, model)"
   ]
  },
  {
   "cell_type": "markdown",
   "metadata": {},
   "source": [
    "So now every molecule is converted into a 300 dimensional vector! To check how similar molecules are, we can compute the cosine similarity, which is given by this formula:\n",
    "\n",
    "$$ \\cos(\\theta) = \\frac{\\bf{A} \\dot \\bf{B}}{\\vert\\vert \\bf{A} \\vert\\vert \\vert\\vert \\bf{B} \\vert\\vert} $$\n",
    "\n",
    "This metric basically measures the angle subtended between two vectors $\\bf{A}, \\bf{B}$. For orthogonal vectors (i.e. completely dissimilar), $\\cos(\\theta)=0$ and two equivalent vectors $\\cos(\\theta)=1$ (two equivalent molecules). The code below implements this measure, as well as a fast(er) implementation for calculating every pair."
   ]
  },
  {
   "cell_type": "code",
   "execution_count": 60,
   "metadata": {},
   "outputs": [],
   "source": [
    "def cosine_similarity(A, B):\n",
    "    return np.dot(A, B) / (np.linalg.norm(A) * np.linalg.norm(B))\n",
    "\n",
    "\n",
    "@numba.jit(fastmath=True)\n",
    "def pairwise_similarity(vectors):\n",
    "    n = len(vectors)\n",
    "    matrix = np.zeros((n, n), dtype=np.float32)\n",
    "    for i in range(n):\n",
    "        for j in range(n):\n",
    "            matrix[i,j] = cosine_similarity(vectors[i], vectors[j])\n",
    "    return matrix"
   ]
  },
  {
   "cell_type": "code",
   "execution_count": 61,
   "metadata": {},
   "outputs": [
    {
     "output_type": "execute_result",
     "data": {
      "text/plain": "array([[1.        , 0.3455288 , 0.93296003, 0.9700841 , 0.20198128],\n       [0.3455288 , 1.0000001 , 0.426918  , 0.40268713, 0.37568054],\n       [0.93296003, 0.426918  , 0.9999999 , 0.94081306, 0.4548299 ],\n       [0.9700841 , 0.40268713, 0.94081306, 1.0000001 , 0.22851975],\n       [0.20198128, 0.37568054, 0.4548299 , 0.22851975, 1.        ]],\n      dtype=float32)"
     },
     "metadata": {},
     "execution_count": 61
    }
   ],
   "source": [
    "pairwise_similarity(vectors)"
   ]
  },
  {
   "cell_type": "markdown",
   "metadata": {},
   "source": [
    "This matrix shows the cosine similarity between every molecule pair: the diagonal entries are all 1, because they're the same molecule (good sanity check), while the off-diagonal elements compare each molecule.\n",
    "\n",
    "In row order, we have: benzene, acetaldehyde, benzonitrile, phenol, HC5N. From chemical intuition, benzene, benzonitrile, and phenol should be very similar with one another because they all contain a benzene ring. Acetaldehyde should be closest to phenol because of oxygen. HC5N should be similar to benzonitrile because of the nitrile group.\n",
    "\n",
    "The first and third statements hold well, and they meet our expectations! The second one is a bit more dicey, as the result suggests that acetaldehyde is closer to benzonitrile than phenol despite what we originally thought. In this case, it's very likely that our `mol2vec` model isn't entirely doing what we're thinking, and we would need to do more tests to understand why this is. The encoding must not be focusing on the oxygen as much: for these comparisons, we would have to either: (a) tune the `mol2vec` model, (b) use a different type of encoding, or (c) use a different measure of similarlity."
   ]
  },
  {
   "cell_type": "code",
   "execution_count": null,
   "metadata": {},
   "outputs": [],
   "source": []
  }
 ],
 "metadata": {
  "language_info": {
   "codemirror_mode": {
    "name": "ipython",
    "version": 3
   },
   "file_extension": ".py",
   "mimetype": "text/x-python",
   "name": "python",
   "nbconvert_exporter": "python",
   "pygments_lexer": "ipython3",
   "version": "3.6.10-final"
  },
  "orig_nbformat": 2,
  "kernelspec": {
   "name": "python361064bitrdkitconda2231f7cd07614fa9b5f8257698e6a5f8",
   "display_name": "Python 3.6.10 64-bit ('rdkit': conda)"
  }
 },
 "nbformat": 4,
 "nbformat_minor": 2
}