{
 "cells": [
  {
   "cell_type": "code",
   "execution_count": 24,
   "metadata": {
    "tags": []
   },
   "outputs": [],
   "source": [
    "from pathlib import Path\n",
    "from tempfile import NamedTemporaryFile\n",
    "import os\n",
    "\n",
    "import numba\n",
    "import numpy as np\n",
    "from mol2vec import features\n",
    "from rdkit import Chem\n",
    "from rdkit.Chem.Draw import IPythonConsole\n",
    "from rdkit.Chem import AllChem\n",
    "from gensim.models import word2vec"
   ]
  },
  {
   "cell_type": "code",
   "execution_count": 2,
   "metadata": {},
   "outputs": [],
   "source": [
    "model = word2vec.Word2Vec.load(\"mol2vec_model.pkl\")"
   ]
  },
  {
   "cell_type": "code",
   "execution_count": 3,
   "metadata": {
    "tags": []
   },
   "outputs": [
    {
     "name": "stdout",
     "output_type": "stream",
     "text": [
      "8062\n"
     ]
    }
   ],
   "source": [
    "print(len(model.wv.vocab))"
   ]
  },
  {
   "cell_type": "code",
   "execution_count": 4,
   "metadata": {},
   "outputs": [],
   "source": [
    "# Generate some small molecules for comparison and\n",
    "# sanity check!\n",
    "\n",
    "benzene = Chem.MolFromSmiles(\"c1ccccc1\")\n",
    "acetaldehyde = Chem.MolFromSmiles(\"CC=O\")\n",
    "benzonitrile = Chem.MolFromSmiles(\"C1=CC=C(C=C1)C#N\")\n",
    "phenol = Chem.MolFromSmiles(\"Oc1ccccc1\")\n",
    "hc5n = Chem.MolFromSmiles(\"C#CC#CC#N\")\n",
    "\n",
    "molecules = [benzene, acetaldehyde, benzonitrile, phenol, hc5n]"
   ]
  },
  {
   "cell_type": "markdown",
   "metadata": {},
   "source": [
    "We now convert the `Mol` objects into \"sentences\" to be processed by our `mol2vec` model."
   ]
  },
  {
   "cell_type": "code",
   "execution_count": 5,
   "metadata": {},
   "outputs": [],
   "source": [
    "# Translate molecules\n",
    "sentences = [features.mol2alt_sentence(mol, 1) for mol in molecules]\n",
    "\n",
    "# Use our trained model to generate vectors for every sentence\n",
    "vectors = features.sentences2vec(sentences, model)"
   ]
  },
  {
   "cell_type": "markdown",
   "metadata": {},
   "source": [
    "So now every molecule is converted into a 300 dimensional vector! To check how similar molecules are, we can compute the cosine similarity, which is given by this formula:\n",
    "\n",
    "$$ \\cos(\\theta) = \\frac{\\bf{A} \\dot \\bf{B}}{\\vert\\vert \\bf{A} \\vert\\vert \\vert\\vert \\bf{B} \\vert\\vert} $$\n",
    "\n",
    "This metric basically measures the angle subtended between two vectors $\\bf{A}, \\bf{B}$. For orthogonal vectors (i.e. completely dissimilar), $\\cos(\\theta)=0$ and two equivalent vectors $\\cos(\\theta)=1$ (two equivalent molecules). The code below implements this measure, as well as a fast(er) implementation for calculating every pair."
   ]
  },
  {
   "cell_type": "code",
   "execution_count": 6,
   "metadata": {},
   "outputs": [],
   "source": [
    "@numba.jit(fastmath=True)\n",
    "def cosine_similarity(A, B):\n",
    "    return np.dot(A, B) / (np.linalg.norm(A) * np.linalg.norm(B))\n",
    "\n",
    "\n",
    "@numba.jit(fastmath=True)\n",
    "def pairwise_similarity(vectors):\n",
    "    n = len(vectors)\n",
    "    matrix = np.zeros((n, n), dtype=np.float32)\n",
    "    for i in range(n):\n",
    "        for j in range(n):\n",
    "            matrix[i,j] = cosine_similarity(vectors[i], vectors[j])\n",
    "    return matrix"
   ]
  },
  {
   "cell_type": "code",
   "execution_count": 7,
   "metadata": {},
   "outputs": [
    {
     "data": {
      "text/plain": [
       "array([[1.        , 0.3647529 , 0.92900187, 0.9687872 , 0.20026813],\n",
       "       [0.3647529 , 1.        , 0.44702974, 0.4217399 , 0.37271535],\n",
       "       [0.92900187, 0.44702974, 0.9999999 , 0.9402652 , 0.44940293],\n",
       "       [0.9687872 , 0.4217399 , 0.9402652 , 1.        , 0.22655925],\n",
       "       [0.20026813, 0.37271535, 0.44940293, 0.22655925, 1.        ]],\n",
       "      dtype=float32)"
      ]
     },
     "execution_count": 7,
     "metadata": {},
     "output_type": "execute_result"
    }
   ],
   "source": [
    "pairwise_similarity(vectors)"
   ]
  },
  {
   "cell_type": "markdown",
   "metadata": {},
   "source": [
    "This matrix shows the cosine similarity between every molecule pair: the diagonal entries are all 1, because they're the same molecule (good sanity check), while the off-diagonal elements compare each molecule.\n",
    "\n",
    "In row order, we have: benzene, acetaldehyde, benzonitrile, phenol, HC5N. From chemical intuition, benzene, benzonitrile, and phenol should be very similar with one another because they all contain a benzene ring. Acetaldehyde should be closest to phenol because of oxygen. HC5N should be similar to benzonitrile because of the nitrile group.\n",
    "\n",
    "The first and third statements hold well, and they meet our expectations! The second one is a bit more dicey, as the result suggests that acetaldehyde is closer to benzonitrile than phenol despite what we originally thought. In this case, it's very likely that our `mol2vec` model isn't entirely doing what we're thinking, and we would need to do more tests to understand why this is. The encoding must not be focusing on the oxygen as much: for these comparisons, we would have to either: (a) tune the `mol2vec` model, (b) use a different type of encoding, or (c) use a different measure of similarlity."
   ]
  },
  {
   "cell_type": "code",
   "execution_count": 9,
   "metadata": {},
   "outputs": [],
   "source": [
    "with open(\"collected_smiles.smi\") as read_file:\n",
    "    smi_list = read_file.readlines()"
   ]
  },
  {
   "cell_type": "code",
   "execution_count": 16,
   "metadata": {},
   "outputs": [],
   "source": [
    "smi_list = [smi.strip() for smi in smi_list]"
   ]
  },
  {
   "cell_type": "markdown",
   "metadata": {},
   "source": [
    "_The step below takes a long time!_ Should parallelize it."
   ]
  },
  {
   "cell_type": "code",
   "execution_count": 27,
   "metadata": {},
   "outputs": [],
   "source": [
    "sentences = list()\n",
    "for smi in smi_list:\n",
    "    mol = Chem.MolFromSmiles(smi, sanitize=False)\n",
    "    mol.UpdatePropertyCache(strict=False)\n",
    "    Chem.GetSymmSSSR(mol)\n",
    "    sentence = features.mol2alt_sentence(mol, 1)\n",
    "    sentences.append(sentence)"
   ]
  },
  {
   "cell_type": "code",
   "execution_count": 28,
   "metadata": {},
   "outputs": [],
   "source": [
    "# Use our trained model to generate vectors for every sentence\n",
    "vectors = features.sentences2vec(sentences, model)"
   ]
  },
  {
   "cell_type": "code",
   "execution_count": 59,
   "metadata": {},
   "outputs": [],
   "source": [
    "np.savez(\"embeddings.npz\", vectors)"
   ]
  },
  {
   "cell_type": "code",
   "execution_count": null,
   "metadata": {},
   "outputs": [],
   "source": []
  }
 ],
 "metadata": {
  "kernelspec": {
   "display_name": "Python 3.6.10 64-bit ('rdkit': conda)",
   "language": "python",
   "name": "python361064bitrdkitconda2231f7cd07614fa9b5f8257698e6a5f8"
  },
  "language_info": {
   "codemirror_mode": {
    "name": "ipython",
    "version": 3
   },
   "file_extension": ".py",
   "mimetype": "text/x-python",
   "name": "python",
   "nbconvert_exporter": "python",
   "pygments_lexer": "ipython3",
   "version": "3.6.10"
  }
 },
 "nbformat": 4,
 "nbformat_minor": 4
}
